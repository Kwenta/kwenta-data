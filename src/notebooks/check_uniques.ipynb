{
 "cells": [
  {
   "cell_type": "code",
   "execution_count": 1,
   "metadata": {},
   "outputs": [],
   "source": [
    "import pandas as pd\n",
    "import sqlite3\n"
   ]
  },
  {
   "cell_type": "code",
   "execution_count": 2,
   "metadata": {},
   "outputs": [],
   "source": [
    "# Read sqlite query results into a pandas DataFrame\n",
    "con = sqlite3.connect(\"../../data/perps.db\")\n"
   ]
  },
  {
   "cell_type": "code",
   "execution_count": 3,
   "metadata": {},
   "outputs": [
    {
     "name": "stdout",
     "output_type": "stream",
     "text": [
      "ROWS: 54738\n",
      "IDs: 54738\n"
     ]
    }
   ],
   "source": [
    "df_trades = pd.read_sql_query(\"SELECT * from trades\", con)\n",
    "print(f\"ROWS: {df_trades.shape[0]}\")\n",
    "print(f\"IDs: {df_trades['id'].size}\")\n"
   ]
  },
  {
   "cell_type": "code",
   "execution_count": 4,
   "metadata": {},
   "outputs": [
    {
     "name": "stdout",
     "output_type": "stream",
     "text": [
      "ROWS: 29296\n",
      "IDs: 29296\n"
     ]
    }
   ],
   "source": [
    "df_transfers = pd.read_sql_query(\"SELECT * from transfers\", con)\n",
    "print(f\"ROWS: {df_transfers.shape[0]}\")\n",
    "print(f\"IDs: {df_transfers['id'].size}\")\n"
   ]
  },
  {
   "cell_type": "code",
   "execution_count": 5,
   "metadata": {},
   "outputs": [
    {
     "name": "stdout",
     "output_type": "stream",
     "text": [
      "ROWS: 19293\n",
      "IDs: 19293\n"
     ]
    }
   ],
   "source": [
    "df_positions = pd.read_sql_query(\"SELECT * from positions\", con)\n",
    "print(f\"ROWS: {df_positions.shape[0]}\")\n",
    "print(f\"IDs: {df_positions['id'].size}\")\n"
   ]
  },
  {
   "cell_type": "code",
   "execution_count": 6,
   "metadata": {},
   "outputs": [
    {
     "name": "stdout",
     "output_type": "stream",
     "text": [
      "ROWS: 2900\n",
      "IDs: 2900\n"
     ]
    }
   ],
   "source": [
    "df_stats = pd.read_sql_query(\"SELECT * from stats\", con)\n",
    "print(f\"ROWS: {df_stats.shape[0]}\")\n",
    "print(f\"IDs: {df_stats['id'].size}\")\n"
   ]
  },
  {
   "cell_type": "code",
   "execution_count": 7,
   "metadata": {},
   "outputs": [
    {
     "name": "stdout",
     "output_type": "stream",
     "text": [
      "ROWS: 138125\n",
      "IDs: 138125\n"
     ]
    }
   ],
   "source": [
    "df_funding = pd.read_sql_query(\"SELECT * from funding_rates\", con)\n",
    "print(f\"ROWS: {df_funding.shape[0]}\")\n",
    "print(f\"IDs: {df_funding['id'].size}\")\n"
   ]
  },
  {
   "cell_type": "code",
   "execution_count": 8,
   "metadata": {},
   "outputs": [
    {
     "data": {
      "text/html": [
       "<div>\n",
       "<style scoped>\n",
       "    .dataframe tbody tr th:only-of-type {\n",
       "        vertical-align: middle;\n",
       "    }\n",
       "\n",
       "    .dataframe tbody tr th {\n",
       "        vertical-align: top;\n",
       "    }\n",
       "\n",
       "    .dataframe thead th {\n",
       "        text-align: right;\n",
       "    }\n",
       "</style>\n",
       "<table border=\"1\" class=\"dataframe\">\n",
       "  <thead>\n",
       "    <tr style=\"text-align: right;\">\n",
       "      <th></th>\n",
       "      <th>id</th>\n",
       "      <th>account</th>\n",
       "      <th>timestamp</th>\n",
       "      <th>asset</th>\n",
       "      <th>marketKey</th>\n",
       "      <th>orderType</th>\n",
       "      <th>price</th>\n",
       "      <th>margin</th>\n",
       "      <th>positionId</th>\n",
       "      <th>feesPaid</th>\n",
       "      <th>pnl</th>\n",
       "      <th>size</th>\n",
       "      <th>positionSize</th>\n",
       "      <th>positionClosed</th>\n",
       "    </tr>\n",
       "  </thead>\n",
       "  <tbody>\n",
       "    <tr>\n",
       "      <th>54733</th>\n",
       "      <td>0x5c12f176e3fc531e7591d6008eaed7a57260e39cb4be...</td>\n",
       "      <td>0x450cf20323733ea1ba31357cc129bd7da188cc68</td>\n",
       "      <td>1679687877</td>\n",
       "      <td>AXS</td>\n",
       "      <td>sAXSPERP</td>\n",
       "      <td>DelayedOffchain</td>\n",
       "      <td>8.262288</td>\n",
       "      <td>126.582423</td>\n",
       "      <td>0x3a52b21816168dfe35be99b7c5fc209f17a0adb1-0x28</td>\n",
       "      <td>3.282413</td>\n",
       "      <td>0.000000</td>\n",
       "      <td>155.212800</td>\n",
       "      <td>311.554400</td>\n",
       "      <td>0</td>\n",
       "    </tr>\n",
       "    <tr>\n",
       "      <th>54734</th>\n",
       "      <td>0x32cb098d142380992f4bc669bc52feb345e0da9d88bb...</td>\n",
       "      <td>0x3877b93d5411bf5f5cb92d7e7650935fd0212d8a</td>\n",
       "      <td>1679688059</td>\n",
       "      <td>OP</td>\n",
       "      <td>sOPPERP</td>\n",
       "      <td>DelayedOffchain</td>\n",
       "      <td>2.239379</td>\n",
       "      <td>247.891835</td>\n",
       "      <td>0x442b69937a0daf9d46439a71567fabe6cb69fbaf-0xb42</td>\n",
       "      <td>3.679534</td>\n",
       "      <td>0.000000</td>\n",
       "      <td>750.000000</td>\n",
       "      <td>750.000000</td>\n",
       "      <td>0</td>\n",
       "    </tr>\n",
       "    <tr>\n",
       "      <th>54735</th>\n",
       "      <td>0x3e9ee2bf29ae62621b264f6ca7afceea1c8b7f29843d...</td>\n",
       "      <td>0x3d21aa55ed1fa6eac46a594f439a64f6bca9a695</td>\n",
       "      <td>1679688378</td>\n",
       "      <td>SOL</td>\n",
       "      <td>sSOLPERP</td>\n",
       "      <td>DelayedOffchain</td>\n",
       "      <td>20.685623</td>\n",
       "      <td>133555.118994</td>\n",
       "      <td>0x0ea09d97b4084d859328ec4bf8ebcf9ecca26f1d-0x348</td>\n",
       "      <td>250.227481</td>\n",
       "      <td>13171.085743</td>\n",
       "      <td>15000.000000</td>\n",
       "      <td>-20000.000000</td>\n",
       "      <td>0</td>\n",
       "    </tr>\n",
       "    <tr>\n",
       "      <th>54736</th>\n",
       "      <td>0xbc3e4965a59781afdf520d25f3cdf51560561c0f5bb2...</td>\n",
       "      <td>0xc0d271acc888e774043d05027445f6905c2dea45</td>\n",
       "      <td>1679688470</td>\n",
       "      <td>sETH</td>\n",
       "      <td>sETHPERP</td>\n",
       "      <td>DelayedOffchain</td>\n",
       "      <td>1757.874617</td>\n",
       "      <td>144.281937</td>\n",
       "      <td>0x2b3bb4c683bfc5239b029131eef3b1d214478d93-0x1cae</td>\n",
       "      <td>4.597084</td>\n",
       "      <td>20.567656</td>\n",
       "      <td>-1.477400</td>\n",
       "      <td>0.000000</td>\n",
       "      <td>1</td>\n",
       "    </tr>\n",
       "    <tr>\n",
       "      <th>54737</th>\n",
       "      <td>0xa9542aaec187118f20b35774727f93c20132a58ab000...</td>\n",
       "      <td>0x0eeacd4c475040463389d15ead034d1291b008b1</td>\n",
       "      <td>1679688735</td>\n",
       "      <td>OP</td>\n",
       "      <td>sOPPERP</td>\n",
       "      <td>DelayedOffchain</td>\n",
       "      <td>2.238050</td>\n",
       "      <td>15536.881934</td>\n",
       "      <td>0x442b69937a0daf9d46439a71567fabe6cb69fbaf-0xb43</td>\n",
       "      <td>16.967171</td>\n",
       "      <td>0.000000</td>\n",
       "      <td>-4458.395418</td>\n",
       "      <td>-4458.395418</td>\n",
       "      <td>0</td>\n",
       "    </tr>\n",
       "  </tbody>\n",
       "</table>\n",
       "</div>"
      ],
      "text/plain": [
       "                                                      id  \\\n",
       "54733  0x5c12f176e3fc531e7591d6008eaed7a57260e39cb4be...   \n",
       "54734  0x32cb098d142380992f4bc669bc52feb345e0da9d88bb...   \n",
       "54735  0x3e9ee2bf29ae62621b264f6ca7afceea1c8b7f29843d...   \n",
       "54736  0xbc3e4965a59781afdf520d25f3cdf51560561c0f5bb2...   \n",
       "54737  0xa9542aaec187118f20b35774727f93c20132a58ab000...   \n",
       "\n",
       "                                          account   timestamp asset marketKey  \\\n",
       "54733  0x450cf20323733ea1ba31357cc129bd7da188cc68  1679687877   AXS  sAXSPERP   \n",
       "54734  0x3877b93d5411bf5f5cb92d7e7650935fd0212d8a  1679688059    OP   sOPPERP   \n",
       "54735  0x3d21aa55ed1fa6eac46a594f439a64f6bca9a695  1679688378   SOL  sSOLPERP   \n",
       "54736  0xc0d271acc888e774043d05027445f6905c2dea45  1679688470  sETH  sETHPERP   \n",
       "54737  0x0eeacd4c475040463389d15ead034d1291b008b1  1679688735    OP   sOPPERP   \n",
       "\n",
       "             orderType        price         margin  \\\n",
       "54733  DelayedOffchain     8.262288     126.582423   \n",
       "54734  DelayedOffchain     2.239379     247.891835   \n",
       "54735  DelayedOffchain    20.685623  133555.118994   \n",
       "54736  DelayedOffchain  1757.874617     144.281937   \n",
       "54737  DelayedOffchain     2.238050   15536.881934   \n",
       "\n",
       "                                              positionId    feesPaid  \\\n",
       "54733    0x3a52b21816168dfe35be99b7c5fc209f17a0adb1-0x28    3.282413   \n",
       "54734   0x442b69937a0daf9d46439a71567fabe6cb69fbaf-0xb42    3.679534   \n",
       "54735   0x0ea09d97b4084d859328ec4bf8ebcf9ecca26f1d-0x348  250.227481   \n",
       "54736  0x2b3bb4c683bfc5239b029131eef3b1d214478d93-0x1cae    4.597084   \n",
       "54737   0x442b69937a0daf9d46439a71567fabe6cb69fbaf-0xb43   16.967171   \n",
       "\n",
       "                pnl          size  positionSize  positionClosed  \n",
       "54733      0.000000    155.212800    311.554400               0  \n",
       "54734      0.000000    750.000000    750.000000               0  \n",
       "54735  13171.085743  15000.000000 -20000.000000               0  \n",
       "54736     20.567656     -1.477400      0.000000               1  \n",
       "54737      0.000000  -4458.395418  -4458.395418               0  "
      ]
     },
     "execution_count": 8,
     "metadata": {},
     "output_type": "execute_result"
    }
   ],
   "source": [
    "df_trades.sort_values('timestamp').tail(5)"
   ]
  },
  {
   "cell_type": "code",
   "execution_count": null,
   "metadata": {},
   "outputs": [],
   "source": []
  }
 ],
 "metadata": {
  "kernelspec": {
   "display_name": "kwenta38",
   "language": "python",
   "name": "python3"
  },
  "language_info": {
   "codemirror_mode": {
    "name": "ipython",
    "version": 3
   },
   "file_extension": ".py",
   "mimetype": "text/x-python",
   "name": "python",
   "nbconvert_exporter": "python",
   "pygments_lexer": "ipython3",
   "version": "3.8.9"
  },
  "orig_nbformat": 4
 },
 "nbformat": 4,
 "nbformat_minor": 2
}
