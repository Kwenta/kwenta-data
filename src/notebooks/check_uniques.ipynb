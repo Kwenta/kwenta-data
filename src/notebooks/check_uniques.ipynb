{
 "cells": [
  {
   "cell_type": "code",
   "execution_count": 39,
   "metadata": {},
   "outputs": [],
   "source": [
    "import pandas as pd\n",
    "import sqlite3\n"
   ]
  },
  {
   "cell_type": "code",
   "execution_count": 40,
   "metadata": {},
   "outputs": [],
   "source": [
    "# Read sqlite query results into a pandas DataFrame\n",
    "con = sqlite3.connect(\"../../data/perps.db\")\n"
   ]
  },
  {
   "cell_type": "code",
   "execution_count": 41,
   "metadata": {},
   "outputs": [
    {
     "name": "stdout",
     "output_type": "stream",
     "text": [
      "ROWS: 53660\n",
      "IDs: 53660\n"
     ]
    }
   ],
   "source": [
    "df_trades = pd.read_sql_query(\"SELECT * from trades\", con)\n",
    "print(f\"ROWS: {df_trades.shape[0]}\")\n",
    "print(f\"IDs: {df_trades['id'].size}\")\n"
   ]
  },
  {
   "cell_type": "code",
   "execution_count": 42,
   "metadata": {},
   "outputs": [
    {
     "name": "stdout",
     "output_type": "stream",
     "text": [
      "ROWS: 28844\n",
      "IDs: 28844\n"
     ]
    }
   ],
   "source": [
    "df_transfers = pd.read_sql_query(\"SELECT * from transfers\", con)\n",
    "print(f\"ROWS: {df_transfers.shape[0]}\")\n",
    "print(f\"IDs: {df_transfers['id'].size}\")\n"
   ]
  },
  {
   "cell_type": "code",
   "execution_count": 43,
   "metadata": {},
   "outputs": [
    {
     "name": "stdout",
     "output_type": "stream",
     "text": [
      "ROWS: 18993\n",
      "IDs: 18993\n"
     ]
    }
   ],
   "source": [
    "df_positions = pd.read_sql_query(\"SELECT * from positions\", con)\n",
    "print(f\"ROWS: {df_positions.shape[0]}\")\n",
    "print(f\"IDs: {df_positions['id'].size}\")\n"
   ]
  },
  {
   "cell_type": "code",
   "execution_count": 44,
   "metadata": {},
   "outputs": [
    {
     "name": "stdout",
     "output_type": "stream",
     "text": [
      "ROWS: 2877\n",
      "IDs: 2877\n"
     ]
    }
   ],
   "source": [
    "df_stats = pd.read_sql_query(\"SELECT * from stats\", con)\n",
    "print(f\"ROWS: {df_stats.shape[0]}\")\n",
    "print(f\"IDs: {df_stats['id'].size}\")\n"
   ]
  },
  {
   "cell_type": "code",
   "execution_count": 45,
   "metadata": {},
   "outputs": [
    {
     "name": "stdout",
     "output_type": "stream",
     "text": [
      "ROWS: 135919\n",
      "IDs: 135919\n"
     ]
    }
   ],
   "source": [
    "df_funding = pd.read_sql_query(\"SELECT * from funding_rates\", con)\n",
    "print(f\"ROWS: {df_funding.shape[0]}\")\n",
    "print(f\"IDs: {df_funding['id'].size}\")\n"
   ]
  },
  {
   "cell_type": "code",
   "execution_count": 46,
   "metadata": {},
   "outputs": [
    {
     "data": {
      "text/html": [
       "<div>\n",
       "<style scoped>\n",
       "    .dataframe tbody tr th:only-of-type {\n",
       "        vertical-align: middle;\n",
       "    }\n",
       "\n",
       "    .dataframe tbody tr th {\n",
       "        vertical-align: top;\n",
       "    }\n",
       "\n",
       "    .dataframe thead th {\n",
       "        text-align: right;\n",
       "    }\n",
       "</style>\n",
       "<table border=\"1\" class=\"dataframe\">\n",
       "  <thead>\n",
       "    <tr style=\"text-align: right;\">\n",
       "      <th></th>\n",
       "      <th>id</th>\n",
       "      <th>account</th>\n",
       "      <th>timestamp</th>\n",
       "      <th>asset</th>\n",
       "      <th>marketKey</th>\n",
       "      <th>orderType</th>\n",
       "      <th>price</th>\n",
       "      <th>margin</th>\n",
       "      <th>positionId</th>\n",
       "      <th>feesPaid</th>\n",
       "      <th>pnl</th>\n",
       "      <th>size</th>\n",
       "      <th>positionSize</th>\n",
       "      <th>positionClosed</th>\n",
       "    </tr>\n",
       "  </thead>\n",
       "  <tbody>\n",
       "    <tr>\n",
       "      <th>34001</th>\n",
       "      <td>0xa23c52ba51887e512a0f18037d9767e9481ab693ed2e...</td>\n",
       "      <td>0x5a5670d2587815ddad5bba11dfc18ddc19bcff62</td>\n",
       "      <td>1679607095</td>\n",
       "      <td>DYDX</td>\n",
       "      <td>sDYDXPERP</td>\n",
       "      <td>DelayedOffchain</td>\n",
       "      <td>2.583664</td>\n",
       "      <td>9998.000000</td>\n",
       "      <td>0x139f94e4f0e1101c1464a321cba815c34d58b5d9-0x273</td>\n",
       "      <td>21.990431</td>\n",
       "      <td>0.000000</td>\n",
       "      <td>7737.242442</td>\n",
       "      <td>7737.242442</td>\n",
       "      <td>0</td>\n",
       "    </tr>\n",
       "    <tr>\n",
       "      <th>53656</th>\n",
       "      <td>0x0985091b96e86a2230468cb9478a352ea23e9342f234...</td>\n",
       "      <td>0xd692a8b22adee210234a7fb00510e300411a8b93</td>\n",
       "      <td>1679607202</td>\n",
       "      <td>sETH</td>\n",
       "      <td>sETHPERP</td>\n",
       "      <td>DelayedOffchain</td>\n",
       "      <td>1812.282472</td>\n",
       "      <td>274.645915</td>\n",
       "      <td>0x2b3bb4c683bfc5239b029131eef3b1d214478d93-0x1c51</td>\n",
       "      <td>2.691023</td>\n",
       "      <td>0.000000</td>\n",
       "      <td>0.762600</td>\n",
       "      <td>0.762600</td>\n",
       "      <td>0</td>\n",
       "    </tr>\n",
       "    <tr>\n",
       "      <th>53657</th>\n",
       "      <td>0x3ca620f0726642892d561cde1b7209ef389ac7afdea5...</td>\n",
       "      <td>0x64bab5ed694635f0b5d594d78a0dd0a8499f174e</td>\n",
       "      <td>1679607508</td>\n",
       "      <td>LINK</td>\n",
       "      <td>sLINKPERP</td>\n",
       "      <td>DelayedOffchain</td>\n",
       "      <td>7.541232</td>\n",
       "      <td>64690.870853</td>\n",
       "      <td>0x31a1659ca00f617e86dc765b6494afe70a5a9c1a-0x335</td>\n",
       "      <td>62.329855</td>\n",
       "      <td>-288.935787</td>\n",
       "      <td>10000.000000</td>\n",
       "      <td>0.000000</td>\n",
       "      <td>1</td>\n",
       "    </tr>\n",
       "    <tr>\n",
       "      <th>53658</th>\n",
       "      <td>0x8bf82405da82aa5905664ac85740b337f211e0cbeba8...</td>\n",
       "      <td>0xeae03eb54eb26b38057544895e834af42fc46a69</td>\n",
       "      <td>1679607553</td>\n",
       "      <td>OP</td>\n",
       "      <td>sOPPERP</td>\n",
       "      <td>DelayedOffchain</td>\n",
       "      <td>2.469516</td>\n",
       "      <td>11486.478887</td>\n",
       "      <td>0x442b69937a0daf9d46439a71567fabe6cb69fbaf-0xb11</td>\n",
       "      <td>128.277451</td>\n",
       "      <td>919.844453</td>\n",
       "      <td>-51134.504300</td>\n",
       "      <td>0.000000</td>\n",
       "      <td>1</td>\n",
       "    </tr>\n",
       "    <tr>\n",
       "      <th>53659</th>\n",
       "      <td>0x8da77902dde3ca9688627b5349acbf3c4328bf5ae8a9...</td>\n",
       "      <td>0x64bab5ed694635f0b5d594d78a0dd0a8499f174e</td>\n",
       "      <td>1679607645</td>\n",
       "      <td>LINK</td>\n",
       "      <td>sLINKPERP</td>\n",
       "      <td>DelayedOffchain</td>\n",
       "      <td>7.539302</td>\n",
       "      <td>64628.540998</td>\n",
       "      <td>0x31a1659ca00f617e86dc765b6494afe70a5a9c1a-0x336</td>\n",
       "      <td>182.943243</td>\n",
       "      <td>0.000000</td>\n",
       "      <td>-20000.000000</td>\n",
       "      <td>-20000.000000</td>\n",
       "      <td>0</td>\n",
       "    </tr>\n",
       "  </tbody>\n",
       "</table>\n",
       "</div>"
      ],
      "text/plain": [
       "                                                      id  \\\n",
       "34001  0xa23c52ba51887e512a0f18037d9767e9481ab693ed2e...   \n",
       "53656  0x0985091b96e86a2230468cb9478a352ea23e9342f234...   \n",
       "53657  0x3ca620f0726642892d561cde1b7209ef389ac7afdea5...   \n",
       "53658  0x8bf82405da82aa5905664ac85740b337f211e0cbeba8...   \n",
       "53659  0x8da77902dde3ca9688627b5349acbf3c4328bf5ae8a9...   \n",
       "\n",
       "                                          account   timestamp asset  \\\n",
       "34001  0x5a5670d2587815ddad5bba11dfc18ddc19bcff62  1679607095  DYDX   \n",
       "53656  0xd692a8b22adee210234a7fb00510e300411a8b93  1679607202  sETH   \n",
       "53657  0x64bab5ed694635f0b5d594d78a0dd0a8499f174e  1679607508  LINK   \n",
       "53658  0xeae03eb54eb26b38057544895e834af42fc46a69  1679607553    OP   \n",
       "53659  0x64bab5ed694635f0b5d594d78a0dd0a8499f174e  1679607645  LINK   \n",
       "\n",
       "       marketKey        orderType        price        margin  \\\n",
       "34001  sDYDXPERP  DelayedOffchain     2.583664   9998.000000   \n",
       "53656   sETHPERP  DelayedOffchain  1812.282472    274.645915   \n",
       "53657  sLINKPERP  DelayedOffchain     7.541232  64690.870853   \n",
       "53658    sOPPERP  DelayedOffchain     2.469516  11486.478887   \n",
       "53659  sLINKPERP  DelayedOffchain     7.539302  64628.540998   \n",
       "\n",
       "                                              positionId    feesPaid  \\\n",
       "34001   0x139f94e4f0e1101c1464a321cba815c34d58b5d9-0x273   21.990431   \n",
       "53656  0x2b3bb4c683bfc5239b029131eef3b1d214478d93-0x1c51    2.691023   \n",
       "53657   0x31a1659ca00f617e86dc765b6494afe70a5a9c1a-0x335   62.329855   \n",
       "53658   0x442b69937a0daf9d46439a71567fabe6cb69fbaf-0xb11  128.277451   \n",
       "53659   0x31a1659ca00f617e86dc765b6494afe70a5a9c1a-0x336  182.943243   \n",
       "\n",
       "              pnl          size  positionSize  positionClosed  \n",
       "34001    0.000000   7737.242442   7737.242442               0  \n",
       "53656    0.000000      0.762600      0.762600               0  \n",
       "53657 -288.935787  10000.000000      0.000000               1  \n",
       "53658  919.844453 -51134.504300      0.000000               1  \n",
       "53659    0.000000 -20000.000000 -20000.000000               0  "
      ]
     },
     "execution_count": 46,
     "metadata": {},
     "output_type": "execute_result"
    }
   ],
   "source": [
    "df_trades.sort_values('timestamp').tail(5)"
   ]
  },
  {
   "cell_type": "code",
   "execution_count": null,
   "metadata": {},
   "outputs": [],
   "source": []
  }
 ],
 "metadata": {
  "kernelspec": {
   "display_name": "kwenta38",
   "language": "python",
   "name": "python3"
  },
  "language_info": {
   "codemirror_mode": {
    "name": "ipython",
    "version": 3
   },
   "file_extension": ".py",
   "mimetype": "text/x-python",
   "name": "python",
   "nbconvert_exporter": "python",
   "pygments_lexer": "ipython3",
   "version": "3.8.9"
  },
  "orig_nbformat": 4
 },
 "nbformat": 4,
 "nbformat_minor": 2
}
