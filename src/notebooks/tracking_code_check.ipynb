{
 "cells": [
  {
   "attachments": {},
   "cell_type": "markdown",
   "id": "a28a92e9",
   "metadata": {},
   "source": [
    "# Check `FuturesTrade` tracking code\n",
    "\n",
    "* Compare trades between two subgraphs\n",
    "* Add bytes decoding\n",
    "* Ensure upgraded subgraph has tracking codes set\n"
   ]
  },
  {
   "cell_type": "code",
   "execution_count": 1,
   "id": "58de3189",
   "metadata": {},
   "outputs": [
    {
     "data": {
      "text/plain": [
       "True"
      ]
     },
     "execution_count": 1,
     "metadata": {},
     "output_type": "execute_result"
    }
   ],
   "source": [
    "import os\n",
    "from copy import deepcopy\n",
    "from datetime import datetime\n",
    "import asyncio\n",
    "import requests\n",
    "import pandas as pd\n",
    "import numpy as np\n",
    "import json\n",
    "from gql import Client, gql\n",
    "from gql.transport.aiohttp import AIOHTTPTransport\n",
    "from decimal import Decimal\n",
    "from dotenv import load_dotenv\n",
    "import plotly.express as px\n",
    "\n",
    "load_dotenv()\n"
   ]
  },
  {
   "cell_type": "code",
   "execution_count": 2,
   "id": "f8fc39a7",
   "metadata": {},
   "outputs": [],
   "source": [
    "## constants\n",
    "INFURA_KEY = os.getenv('INFURA_KEY')\n",
    "\n",
    "# mainnet\n",
    "OLD_SUBGRAPH_ENDPOINT = 'https://api.thegraph.com/subgraphs/name/kwenta/optimism-perps'\n",
    "\n",
    "SUBGRAPH_ENDPOINT = 'https://api.thegraph.com/subgraphs/name/tburm/optimism-perps'\n",
    "RPC_ENDPOINT = f'https://optimism-mainnet.infura.io/v3/{INFURA_KEY}'\n",
    "\n",
    "# testnet\n",
    "# SUBGRAPH_ENDPOINT = 'https://api.thegraph.com/subgraphs/name/kwenta/optimism-goerli-perps'\n",
    "# RPC_ENDPOINT = f'https://optimism-kovan.infura.io/v3/{INFURA_KEY}'\n"
   ]
  },
  {
   "cell_type": "code",
   "execution_count": 3,
   "id": "f780bfab",
   "metadata": {},
   "outputs": [],
   "source": [
    "# functions\n",
    "convertDecimals = lambda x: Decimal(x) / Decimal(10**18)\n",
    "convertBytes = lambda x: bytearray.fromhex(x[2:]).decode().replace('\\x00', '')\n",
    "\n",
    "def clean_df(df, decimal_cols=[], bytes_cols=[]):\n",
    "    for col in decimal_cols:\n",
    "        if col in df.columns:\n",
    "            df[col] = df[col].apply(convertDecimals)\n",
    "        else:\n",
    "            print(f\"{col} not in DataFrame\")\n",
    "    for col in bytes_cols:\n",
    "        if col in df.columns:\n",
    "            df[col] = df[col].apply(convertBytes)\n",
    "        else:\n",
    "            print(f\"{col} not in DataFrame\")\n",
    "    return df\n",
    "\n",
    "async def run_query(query, params, endpoint=SUBGRAPH_ENDPOINT):\n",
    "    transport = AIOHTTPTransport(url=endpoint)\n",
    "\n",
    "    async with Client(\n",
    "        transport=transport,\n",
    "        fetch_schema_from_transport=True,\n",
    "    ) as session:\n",
    "\n",
    "        # Execute single query\n",
    "        query = query\n",
    "\n",
    "        result = await session.execute(query, variable_values=params)\n",
    "        df = pd.DataFrame(result)\n",
    "        return df\n",
    "\n",
    "async def run_recursive_query(query, params, accessor, endpoint=SUBGRAPH_ENDPOINT):\n",
    "  transport = AIOHTTPTransport(url=endpoint)\n",
    "\n",
    "  async with Client(\n",
    "      transport=transport,\n",
    "      fetch_schema_from_transport=True,\n",
    "  ) as session:\n",
    "    done_fetching = False\n",
    "    all_results = []\n",
    "    while not done_fetching:\n",
    "      result = await session.execute(query, variable_values=params)\n",
    "      if len(result[accessor]) > 0:\n",
    "        all_results.extend(result[accessor])\n",
    "        params['last_id'] = all_results[-1]['id']\n",
    "      else:\n",
    "        done_fetching = True\n",
    "    \n",
    "    df = pd.DataFrame(all_results)\n",
    "    return df\n"
   ]
  },
  {
   "cell_type": "code",
   "execution_count": 4,
   "id": "fdb8a0c0",
   "metadata": {},
   "outputs": [],
   "source": [
    "old_trade_query = gql(\"\"\"\n",
    "query trades(\n",
    "    $last_id: ID!\n",
    "  ) {\n",
    "    futuresTrades(\n",
    "      where: {\n",
    "        id_gt: $last_id\n",
    "      }\n",
    "      first: 1000\n",
    "     ) {\n",
    "      id\n",
    "      account\n",
    "      timestamp\n",
    "      asset\n",
    "      marketKey\n",
    "      orderType\n",
    "      price\n",
    "      margin\n",
    "      positionId\n",
    "      feesPaid\n",
    "      pnl\n",
    "      size\n",
    "      positionSize\n",
    "      positionClosed\n",
    "    }  \n",
    "}\n",
    "\"\"\")\n",
    "\n",
    "\n",
    "trade_query = gql(\"\"\"\n",
    "query trades(\n",
    "    $last_id: ID!\n",
    "  ) {\n",
    "    futuresTrades(\n",
    "      where: {\n",
    "        id_gt: $last_id\n",
    "      }\n",
    "      first: 1000\n",
    "     ) {\n",
    "      id\n",
    "      account\n",
    "      timestamp\n",
    "      asset\n",
    "      marketKey\n",
    "      orderType\n",
    "      price\n",
    "      margin\n",
    "      positionId\n",
    "      feesPaid\n",
    "      pnl\n",
    "      size\n",
    "      positionSize\n",
    "      positionClosed\n",
    "      trackingCode\n",
    "    }  \n",
    "}\n",
    "\"\"\")\n"
   ]
  },
  {
   "cell_type": "markdown",
   "id": "08a67868",
   "metadata": {},
   "source": [
    "### Run a query"
   ]
  },
  {
   "cell_type": "code",
   "execution_count": 5,
   "id": "cad8005c",
   "metadata": {},
   "outputs": [],
   "source": [
    "trade_params = {\n",
    "    'last_id': ''\n",
    "}\n",
    "\n",
    "trade_decimal_cols = [\n",
    "    'price',\n",
    "    'margin',\n",
    "    'feesPaid',\n",
    "    'pnl',\n",
    "    'size',\n",
    "    'positionSize',\n",
    "]\n",
    "\n",
    "trade_bytes_cols = ['trackingCode']\n",
    "\n",
    "df_trade = await run_recursive_query(trade_query, trade_params, 'futuresTrades')\n",
    "df_trade = df_trade.replace({None: np.nan})\n",
    "df_trade = clean_df(df_trade, decimal_cols=trade_decimal_cols, bytes_cols=trade_bytes_cols)\n"
   ]
  },
  {
   "cell_type": "code",
   "execution_count": 6,
   "id": "0f03e345",
   "metadata": {},
   "outputs": [
    {
     "data": {
      "text/html": [
       "<div>\n",
       "<style scoped>\n",
       "    .dataframe tbody tr th:only-of-type {\n",
       "        vertical-align: middle;\n",
       "    }\n",
       "\n",
       "    .dataframe tbody tr th {\n",
       "        vertical-align: top;\n",
       "    }\n",
       "\n",
       "    .dataframe thead th {\n",
       "        text-align: right;\n",
       "    }\n",
       "</style>\n",
       "<table border=\"1\" class=\"dataframe\">\n",
       "  <thead>\n",
       "    <tr style=\"text-align: right;\">\n",
       "      <th></th>\n",
       "      <th>id</th>\n",
       "      <th>account</th>\n",
       "      <th>timestamp</th>\n",
       "      <th>asset</th>\n",
       "      <th>marketKey</th>\n",
       "      <th>orderType</th>\n",
       "      <th>price</th>\n",
       "      <th>margin</th>\n",
       "      <th>positionId</th>\n",
       "      <th>feesPaid</th>\n",
       "      <th>pnl</th>\n",
       "      <th>size</th>\n",
       "      <th>positionSize</th>\n",
       "      <th>positionClosed</th>\n",
       "      <th>trackingCode</th>\n",
       "    </tr>\n",
       "  </thead>\n",
       "  <tbody>\n",
       "    <tr>\n",
       "      <th>0</th>\n",
       "      <td>0x0003d5401b4c7a8a1feb9e8ea750336e6df42b5cd3ff...</td>\n",
       "      <td>0x50d36f27872f637ec9ecb4eedff300df44a608ab</td>\n",
       "      <td>1673640747</td>\n",
       "      <td>0x73455448000000000000000000000000000000000000...</td>\n",
       "      <td>0x73455448504552500000000000000000000000000000...</td>\n",
       "      <td>DelayedOffchain</td>\n",
       "      <td>1420.509945340577467893</td>\n",
       "      <td>83.803545657223511638</td>\n",
       "      <td>0x2b3bb4c683bfc5239b029131eef3b1d214478d93-0x26b</td>\n",
       "      <td>3.128026947594952567</td>\n",
       "      <td>0</td>\n",
       "      <td>-1.5882</td>\n",
       "      <td>0</td>\n",
       "      <td>True</td>\n",
       "      <td>KWENTA</td>\n",
       "    </tr>\n",
       "    <tr>\n",
       "      <th>1</th>\n",
       "      <td>0x00232eaefdd653149d9ae21764a1f412d548a5b6dd4d...</td>\n",
       "      <td>0xa110d783a5b6b0b2a2c867094364e8f9752d5b93</td>\n",
       "      <td>1675964339</td>\n",
       "      <td>0x73455448000000000000000000000000000000000000...</td>\n",
       "      <td>0x73455448504552500000000000000000000000000000...</td>\n",
       "      <td>DelayedOffchain</td>\n",
       "      <td>1613.322643212031584915</td>\n",
       "      <td>19212.662872131648312194</td>\n",
       "      <td>0x2b3bb4c683bfc5239b029131eef3b1d214478d93-0x5f5</td>\n",
       "      <td>331.155086968312641252</td>\n",
       "      <td>0</td>\n",
       "      <td>-204.0231</td>\n",
       "      <td>0</td>\n",
       "      <td>True</td>\n",
       "      <td>KWENTA</td>\n",
       "    </tr>\n",
       "    <tr>\n",
       "      <th>2</th>\n",
       "      <td>0x0024ea62644b2054a4e2acc5e37b6291fa2973117a33...</td>\n",
       "      <td>0xadc6461555c94217d14351ded5f5583634c08191</td>\n",
       "      <td>1673742652</td>\n",
       "      <td>0x73455448000000000000000000000000000000000000...</td>\n",
       "      <td>0x73455448504552500000000000000000000000000000...</td>\n",
       "      <td>DelayedOffchain</td>\n",
       "      <td>1542.283461883403867843</td>\n",
       "      <td>398.000000000000080497</td>\n",
       "      <td>0x2b3bb4c683bfc5239b029131eef3b1d214478d93-0x2b1</td>\n",
       "      <td>4.698996058295956768</td>\n",
       "      <td>0</td>\n",
       "      <td>-3.5</td>\n",
       "      <td>-3.5</td>\n",
       "      <td>False</td>\n",
       "      <td>decentrex</td>\n",
       "    </tr>\n",
       "    <tr>\n",
       "      <th>3</th>\n",
       "      <td>0x00268abb5859495ac5ed1519f64ae84b1f7c50eef1d7...</td>\n",
       "      <td>0xc9c67603d3107ad53d1816d3096b5b36b52cdedc</td>\n",
       "      <td>1675342588</td>\n",
       "      <td>0x73455448000000000000000000000000000000000000...</td>\n",
       "      <td>0x73455448504552500000000000000000000000000000...</td>\n",
       "      <td>DelayedOffchain</td>\n",
       "      <td>1675.63495283188297317</td>\n",
       "      <td>43.758239544222270206</td>\n",
       "      <td>0x2b3bb4c683bfc5239b029131eef3b1d214478d93-0x4d1</td>\n",
       "      <td>2.000004212759417786</td>\n",
       "      <td>0</td>\n",
       "      <td>0.000005028254406685</td>\n",
       "      <td>-4.14103137E-10</td>\n",
       "      <td>False</td>\n",
       "      <td>polynomial</td>\n",
       "    </tr>\n",
       "    <tr>\n",
       "      <th>4</th>\n",
       "      <td>0x00277c831e2e2e46b79037471586b02ad80bea2bac4f...</td>\n",
       "      <td>0x83106ddcac5d119a3d0f551e06239e579299b7c4</td>\n",
       "      <td>1676309220</td>\n",
       "      <td>0x73455448000000000000000000000000000000000000...</td>\n",
       "      <td>0x73455448504552500000000000000000000000000000...</td>\n",
       "      <td>DelayedOffchain</td>\n",
       "      <td>1475.133501091447750939</td>\n",
       "      <td>83.506999804202433774</td>\n",
       "      <td>0x2b3bb4c683bfc5239b029131eef3b1d214478d93-0x565</td>\n",
       "      <td>2.033672626866002274</td>\n",
       "      <td>0</td>\n",
       "      <td>0.022826833531397652</td>\n",
       "      <td>-0.114378935336416095</td>\n",
       "      <td>False</td>\n",
       "      <td>DHEDGE</td>\n",
       "    </tr>\n",
       "    <tr>\n",
       "      <th>...</th>\n",
       "      <td>...</td>\n",
       "      <td>...</td>\n",
       "      <td>...</td>\n",
       "      <td>...</td>\n",
       "      <td>...</td>\n",
       "      <td>...</td>\n",
       "      <td>...</td>\n",
       "      <td>...</td>\n",
       "      <td>...</td>\n",
       "      <td>...</td>\n",
       "      <td>...</td>\n",
       "      <td>...</td>\n",
       "      <td>...</td>\n",
       "      <td>...</td>\n",
       "      <td>...</td>\n",
       "    </tr>\n",
       "    <tr>\n",
       "      <th>7072</th>\n",
       "      <td>0xffd64e62c995b0cde44238bfa23d9bf789f5a1f0e102...</td>\n",
       "      <td>0xf0753b791d9afa14e4f0963c2f9b603282d593fd</td>\n",
       "      <td>1673542151</td>\n",
       "      <td>0x73455448000000000000000000000000000000000000...</td>\n",
       "      <td>0x73455448504552500000000000000000000000000000...</td>\n",
       "      <td>DelayedOffchain</td>\n",
       "      <td>1385.055469509376174366</td>\n",
       "      <td>108.221843840186870326</td>\n",
       "      <td>0x2b3bb4c683bfc5239b029131eef3b1d214478d93-0x23d</td>\n",
       "      <td>2.364182547749186308</td>\n",
       "      <td>0</td>\n",
       "      <td>1.969859803856687971</td>\n",
       "      <td>1.969859803856687971</td>\n",
       "      <td>False</td>\n",
       "      <td>KWENTA</td>\n",
       "    </tr>\n",
       "    <tr>\n",
       "      <th>7073</th>\n",
       "      <td>0xffd7c7fe1e4e726b4e93910453d6c07343dc28045f7e...</td>\n",
       "      <td>0x1bd477fc34b96ab561156f2438b8f9a18fcb5673</td>\n",
       "      <td>1676274577</td>\n",
       "      <td>0x73455448000000000000000000000000000000000000...</td>\n",
       "      <td>0x73455448504552500000000000000000000000000000...</td>\n",
       "      <td>DelayedOffchain</td>\n",
       "      <td>1522.77873592749243167</td>\n",
       "      <td>251.247711634623038918</td>\n",
       "      <td>0x2b3bb4c683bfc5239b029131eef3b1d214478d93-0x723</td>\n",
       "      <td>8.335012093830431712</td>\n",
       "      <td>0</td>\n",
       "      <td>4.160165849683939389</td>\n",
       "      <td>4.160165849683939389</td>\n",
       "      <td>False</td>\n",
       "      <td>KWENTA</td>\n",
       "    </tr>\n",
       "    <tr>\n",
       "      <th>7074</th>\n",
       "      <td>0xffe545b86e9a47ba061ddbe7f20d4729169f347009c1...</td>\n",
       "      <td>0x0c8aa570a1dfeee5258f3c13e2e967da24bbb505</td>\n",
       "      <td>1673262644</td>\n",
       "      <td>0x73455448000000000000000000000000000000000000...</td>\n",
       "      <td>0x73455448504552500000000000000000000000000000...</td>\n",
       "      <td>DelayedOffchain</td>\n",
       "      <td>1322.79752629640388717</td>\n",
       "      <td>52.755917631435047066</td>\n",
       "      <td>0x2b3bb4c683bfc5239b029131eef3b1d214478d93-0x190</td>\n",
       "      <td>1.137240243353251903</td>\n",
       "      <td>0</td>\n",
       "      <td>0.2075</td>\n",
       "      <td>0</td>\n",
       "      <td>True</td>\n",
       "      <td>KWENTA</td>\n",
       "    </tr>\n",
       "    <tr>\n",
       "      <th>7075</th>\n",
       "      <td>0xffe55e5a83b9be19c56cbb873966c8fa586b66c24422...</td>\n",
       "      <td>0x182a36ad47ea21d96d864080b7baceda7ce44019</td>\n",
       "      <td>1676398634</td>\n",
       "      <td>0x73455448000000000000000000000000000000000000...</td>\n",
       "      <td>0x73455448504552500000000000000000000000000000...</td>\n",
       "      <td>DelayedOffchain</td>\n",
       "      <td>1550.020923468874649187</td>\n",
       "      <td>2018.301296096519858795</td>\n",
       "      <td>0x2b3bb4c683bfc5239b029131eef3b1d214478d93-0x7aa</td>\n",
       "      <td>4.445700514095363865</td>\n",
       "      <td>0</td>\n",
       "      <td>3.1557</td>\n",
       "      <td>15.9371</td>\n",
       "      <td>False</td>\n",
       "      <td>KWENTA</td>\n",
       "    </tr>\n",
       "    <tr>\n",
       "      <th>7076</th>\n",
       "      <td>0xfff96e959bc63b043de5c88eb69570a307f454257cf7...</td>\n",
       "      <td>0xc31b0df48319a83eeffd9280f3f29707ec950092</td>\n",
       "      <td>1671649414</td>\n",
       "      <td>0x73455448000000000000000000000000000000000000...</td>\n",
       "      <td>0x73455448504552500000000000000000000000000000...</td>\n",
       "      <td>DelayedOffchain</td>\n",
       "      <td>1210.561005015049885549</td>\n",
       "      <td>49.922118336338367668</td>\n",
       "      <td>0x2b3bb4c683bfc5239b029131eef3b1d214478d93-0x20</td>\n",
       "      <td>1.101808180521765695</td>\n",
       "      <td>0</td>\n",
       "      <td>0.0841</td>\n",
       "      <td>0.0841</td>\n",
       "      <td>False</td>\n",
       "      <td>KWENTA</td>\n",
       "    </tr>\n",
       "  </tbody>\n",
       "</table>\n",
       "<p>7077 rows × 15 columns</p>\n",
       "</div>"
      ],
      "text/plain": [
       "                                                     id  \\\n",
       "0     0x0003d5401b4c7a8a1feb9e8ea750336e6df42b5cd3ff...   \n",
       "1     0x00232eaefdd653149d9ae21764a1f412d548a5b6dd4d...   \n",
       "2     0x0024ea62644b2054a4e2acc5e37b6291fa2973117a33...   \n",
       "3     0x00268abb5859495ac5ed1519f64ae84b1f7c50eef1d7...   \n",
       "4     0x00277c831e2e2e46b79037471586b02ad80bea2bac4f...   \n",
       "...                                                 ...   \n",
       "7072  0xffd64e62c995b0cde44238bfa23d9bf789f5a1f0e102...   \n",
       "7073  0xffd7c7fe1e4e726b4e93910453d6c07343dc28045f7e...   \n",
       "7074  0xffe545b86e9a47ba061ddbe7f20d4729169f347009c1...   \n",
       "7075  0xffe55e5a83b9be19c56cbb873966c8fa586b66c24422...   \n",
       "7076  0xfff96e959bc63b043de5c88eb69570a307f454257cf7...   \n",
       "\n",
       "                                         account   timestamp  \\\n",
       "0     0x50d36f27872f637ec9ecb4eedff300df44a608ab  1673640747   \n",
       "1     0xa110d783a5b6b0b2a2c867094364e8f9752d5b93  1675964339   \n",
       "2     0xadc6461555c94217d14351ded5f5583634c08191  1673742652   \n",
       "3     0xc9c67603d3107ad53d1816d3096b5b36b52cdedc  1675342588   \n",
       "4     0x83106ddcac5d119a3d0f551e06239e579299b7c4  1676309220   \n",
       "...                                          ...         ...   \n",
       "7072  0xf0753b791d9afa14e4f0963c2f9b603282d593fd  1673542151   \n",
       "7073  0x1bd477fc34b96ab561156f2438b8f9a18fcb5673  1676274577   \n",
       "7074  0x0c8aa570a1dfeee5258f3c13e2e967da24bbb505  1673262644   \n",
       "7075  0x182a36ad47ea21d96d864080b7baceda7ce44019  1676398634   \n",
       "7076  0xc31b0df48319a83eeffd9280f3f29707ec950092  1671649414   \n",
       "\n",
       "                                                  asset  \\\n",
       "0     0x73455448000000000000000000000000000000000000...   \n",
       "1     0x73455448000000000000000000000000000000000000...   \n",
       "2     0x73455448000000000000000000000000000000000000...   \n",
       "3     0x73455448000000000000000000000000000000000000...   \n",
       "4     0x73455448000000000000000000000000000000000000...   \n",
       "...                                                 ...   \n",
       "7072  0x73455448000000000000000000000000000000000000...   \n",
       "7073  0x73455448000000000000000000000000000000000000...   \n",
       "7074  0x73455448000000000000000000000000000000000000...   \n",
       "7075  0x73455448000000000000000000000000000000000000...   \n",
       "7076  0x73455448000000000000000000000000000000000000...   \n",
       "\n",
       "                                              marketKey        orderType  \\\n",
       "0     0x73455448504552500000000000000000000000000000...  DelayedOffchain   \n",
       "1     0x73455448504552500000000000000000000000000000...  DelayedOffchain   \n",
       "2     0x73455448504552500000000000000000000000000000...  DelayedOffchain   \n",
       "3     0x73455448504552500000000000000000000000000000...  DelayedOffchain   \n",
       "4     0x73455448504552500000000000000000000000000000...  DelayedOffchain   \n",
       "...                                                 ...              ...   \n",
       "7072  0x73455448504552500000000000000000000000000000...  DelayedOffchain   \n",
       "7073  0x73455448504552500000000000000000000000000000...  DelayedOffchain   \n",
       "7074  0x73455448504552500000000000000000000000000000...  DelayedOffchain   \n",
       "7075  0x73455448504552500000000000000000000000000000...  DelayedOffchain   \n",
       "7076  0x73455448504552500000000000000000000000000000...  DelayedOffchain   \n",
       "\n",
       "                        price                    margin  \\\n",
       "0     1420.509945340577467893     83.803545657223511638   \n",
       "1     1613.322643212031584915  19212.662872131648312194   \n",
       "2     1542.283461883403867843    398.000000000000080497   \n",
       "3      1675.63495283188297317     43.758239544222270206   \n",
       "4     1475.133501091447750939     83.506999804202433774   \n",
       "...                       ...                       ...   \n",
       "7072  1385.055469509376174366    108.221843840186870326   \n",
       "7073   1522.77873592749243167    251.247711634623038918   \n",
       "7074   1322.79752629640388717     52.755917631435047066   \n",
       "7075  1550.020923468874649187   2018.301296096519858795   \n",
       "7076  1210.561005015049885549     49.922118336338367668   \n",
       "\n",
       "                                            positionId  \\\n",
       "0     0x2b3bb4c683bfc5239b029131eef3b1d214478d93-0x26b   \n",
       "1     0x2b3bb4c683bfc5239b029131eef3b1d214478d93-0x5f5   \n",
       "2     0x2b3bb4c683bfc5239b029131eef3b1d214478d93-0x2b1   \n",
       "3     0x2b3bb4c683bfc5239b029131eef3b1d214478d93-0x4d1   \n",
       "4     0x2b3bb4c683bfc5239b029131eef3b1d214478d93-0x565   \n",
       "...                                                ...   \n",
       "7072  0x2b3bb4c683bfc5239b029131eef3b1d214478d93-0x23d   \n",
       "7073  0x2b3bb4c683bfc5239b029131eef3b1d214478d93-0x723   \n",
       "7074  0x2b3bb4c683bfc5239b029131eef3b1d214478d93-0x190   \n",
       "7075  0x2b3bb4c683bfc5239b029131eef3b1d214478d93-0x7aa   \n",
       "7076   0x2b3bb4c683bfc5239b029131eef3b1d214478d93-0x20   \n",
       "\n",
       "                    feesPaid pnl                  size           positionSize  \\\n",
       "0       3.128026947594952567   0               -1.5882                      0   \n",
       "1     331.155086968312641252   0             -204.0231                      0   \n",
       "2       4.698996058295956768   0                  -3.5                   -3.5   \n",
       "3       2.000004212759417786   0  0.000005028254406685        -4.14103137E-10   \n",
       "4       2.033672626866002274   0  0.022826833531397652  -0.114378935336416095   \n",
       "...                      ...  ..                   ...                    ...   \n",
       "7072    2.364182547749186308   0  1.969859803856687971   1.969859803856687971   \n",
       "7073    8.335012093830431712   0  4.160165849683939389   4.160165849683939389   \n",
       "7074    1.137240243353251903   0                0.2075                      0   \n",
       "7075    4.445700514095363865   0                3.1557                15.9371   \n",
       "7076    1.101808180521765695   0                0.0841                 0.0841   \n",
       "\n",
       "      positionClosed trackingCode  \n",
       "0               True       KWENTA  \n",
       "1               True       KWENTA  \n",
       "2              False    decentrex  \n",
       "3              False   polynomial  \n",
       "4              False       DHEDGE  \n",
       "...              ...          ...  \n",
       "7072           False       KWENTA  \n",
       "7073           False       KWENTA  \n",
       "7074            True       KWENTA  \n",
       "7075           False       KWENTA  \n",
       "7076           False       KWENTA  \n",
       "\n",
       "[7077 rows x 15 columns]"
      ]
     },
     "execution_count": 6,
     "metadata": {},
     "output_type": "execute_result"
    }
   ],
   "source": [
    "df_trade"
   ]
  },
  {
   "attachments": {},
   "cell_type": "markdown",
   "id": "5ff615b9",
   "metadata": {},
   "source": [
    "## Get the old data and compare"
   ]
  },
  {
   "cell_type": "code",
   "execution_count": 7,
   "id": "f701f2b6",
   "metadata": {},
   "outputs": [],
   "source": [
    "old_trade_params = {\n",
    "    'last_id': ''\n",
    "}\n",
    "\n",
    "df_old_trade = await run_recursive_query(old_trade_query, old_trade_params, 'futuresTrades', endpoint=OLD_SUBGRAPH_ENDPOINT)\n",
    "df_old_trade = df_old_trade.replace({None: np.nan})\n",
    "df_old_trade = clean_df(df_old_trade, decimal_cols=trade_decimal_cols)\n"
   ]
  },
  {
   "cell_type": "code",
   "execution_count": 19,
   "id": "fb2b00c7",
   "metadata": {},
   "outputs": [
    {
     "data": {
      "text/plain": [
       "(7077, 17)"
      ]
     },
     "execution_count": 19,
     "metadata": {},
     "output_type": "execute_result"
    }
   ],
   "source": [
    "df_trade.shape"
   ]
  },
  {
   "cell_type": "code",
   "execution_count": 20,
   "id": "24acdbef",
   "metadata": {},
   "outputs": [
    {
     "data": {
      "text/plain": [
       "KWENTA        5613\n",
       "decentrex      616\n",
       "polynomial     565\n",
       "               264\n",
       "DHEDGE          19\n",
       "Name: trackingCode, dtype: int64"
      ]
     },
     "execution_count": 20,
     "metadata": {},
     "output_type": "execute_result"
    }
   ],
   "source": [
    "df_trade['trackingCode'].value_counts()"
   ]
  },
  {
   "cell_type": "code",
   "execution_count": 21,
   "id": "c6a0898b",
   "metadata": {},
   "outputs": [
    {
     "data": {
      "text/plain": [
       "(7077, 14)"
      ]
     },
     "execution_count": 21,
     "metadata": {},
     "output_type": "execute_result"
    }
   ],
   "source": [
    "df_old_trade.shape"
   ]
  },
  {
   "cell_type": "code",
   "execution_count": 39,
   "id": "007f4939",
   "metadata": {},
   "outputs": [],
   "source": [
    "df_trade_compare = df_trade.drop('trackingCode', axis=1).sort_values('id')"
   ]
  },
  {
   "cell_type": "code",
   "execution_count": 42,
   "id": "d80bf7dc",
   "metadata": {},
   "outputs": [],
   "source": [
    "df_trade_compare['feeDiff'] = df_trade_compare['feesPaid'][(df_trade_compare['feesPaid'] != df_old_trade['feesPaid'])] - df_trade_compare['feesPaid'][(df_trade_compare['feesPaid'] != df_old_trade['feesPaid'])]\n"
   ]
  },
  {
   "attachments": {},
   "cell_type": "markdown",
   "id": "1b55d214",
   "metadata": {},
   "source": [
    "## Plot some of the tracking code data"
   ]
  },
  {
   "cell_type": "code",
   "execution_count": 43,
   "id": "c7a6d75f",
   "metadata": {},
   "outputs": [],
   "source": [
    "df_trade['size_usd'] = df_trade['size'] * df_trade['price']\n",
    "df_trade['day'] = df_trade['timestamp'].apply(lambda ts: datetime.utcfromtimestamp(int(ts)).strftime('%Y-%m-%d'))\n"
   ]
  },
  {
   "cell_type": "code",
   "execution_count": 44,
   "metadata": {},
   "outputs": [],
   "source": [
    "df_fees = df_trade.groupby(['day', 'trackingCode'])['feesPaid'].sum().reset_index()\n",
    "df_fees['feesPaid'] = df_fees['feesPaid'].astype(np.float64)"
   ]
  },
  {
   "cell_type": "code",
   "execution_count": 45,
   "id": "db3131b1",
   "metadata": {},
   "outputs": [
    {
     "data": {
      "application/vnd.plotly.v1+json": {
       "config": {
        "plotlyServerURL": "https://plot.ly"
       },
       "data": [
        {
         "alignmentgroup": "True",
         "hovertemplate": "trackingCode=<br>day=%{x}<br>feesPaid=%{y}<extra></extra>",
         "legendgroup": "",
         "marker": {
          "color": "#636efa",
          "pattern": {
           "shape": ""
          }
         },
         "name": "",
         "offsetgroup": "",
         "orientation": "v",
         "showlegend": false,
         "textposition": "auto",
         "type": "bar",
         "x": [
          "2022-12-20",
          "2022-12-25",
          "2022-12-27",
          "2022-12-28",
          "2023-01-03",
          "2023-01-04",
          "2023-01-05",
          "2023-01-07",
          "2023-01-08",
          "2023-01-09",
          "2023-01-11",
          "2023-01-12",
          "2023-01-13",
          "2023-01-14",
          "2023-01-16",
          "2023-01-17",
          "2023-01-18",
          "2023-01-19",
          "2023-01-20",
          "2023-01-21",
          "2023-01-23",
          "2023-01-24",
          "2023-01-25",
          "2023-01-26",
          "2023-01-27",
          "2023-01-28",
          "2023-01-29",
          "2023-01-30",
          "2023-01-31",
          "2023-02-01",
          "2023-02-02",
          "2023-02-03",
          "2023-02-04",
          "2023-02-06",
          "2023-02-07",
          "2023-02-08",
          "2023-02-09",
          "2023-02-10",
          "2023-02-11",
          "2023-02-12",
          "2023-02-13",
          "2023-02-14",
          "2023-02-15"
         ],
         "xaxis": "x",
         "y": [
          0.009992735861747162,
          4098.6081483733815,
          1391.9731842956426,
          345.7921768427973,
          48.19942540411032,
          10.235014073261068,
          13.082153962252892,
          60.90492736382785,
          96.47019110870983,
          169.51505042120993,
          480.45808310835025,
          3683.877015695223,
          120.29355157088,
          324.84551346303437,
          4.981645334080089,
          29.3202125,
          170.36912133808391,
          17.83780304842887,
          44.68845268369387,
          1.4992014373261513,
          56.1762340545,
          4411.0949865042285,
          17.250991334334415,
          5.926867587954604,
          127.45940104725841,
          0.07005276483390077,
          486.0298538854502,
          40.444614818114594,
          9.023494476832704,
          107.28389279889721,
          131.5621591847711,
          35.704232383130865,
          39.13080140799087,
          85.56451193643582,
          0.6725674311815976,
          86.58958205824584,
          1032.0166327811878,
          932.6139668878864,
          52.151573653264805,
          224.19433627656102,
          756.0764242441128,
          553.8302831877915,
          2019.3035878077765
         ],
         "yaxis": "y"
        },
        {
         "alignmentgroup": "True",
         "hovertemplate": "trackingCode=KWENTA<br>day=%{x}<br>feesPaid=%{y}<extra></extra>",
         "legendgroup": "KWENTA",
         "marker": {
          "color": "#EF553B",
          "pattern": {
           "shape": ""
          }
         },
         "name": "KWENTA",
         "offsetgroup": "KWENTA",
         "orientation": "v",
         "showlegend": true,
         "textposition": "auto",
         "type": "bar",
         "x": [
          "2022-12-20",
          "2022-12-21",
          "2022-12-22",
          "2022-12-23",
          "2022-12-24",
          "2022-12-25",
          "2022-12-26",
          "2022-12-27",
          "2022-12-28",
          "2022-12-29",
          "2022-12-30",
          "2022-12-31",
          "2023-01-01",
          "2023-01-02",
          "2023-01-03",
          "2023-01-04",
          "2023-01-05",
          "2023-01-06",
          "2023-01-07",
          "2023-01-08",
          "2023-01-09",
          "2023-01-10",
          "2023-01-11",
          "2023-01-12",
          "2023-01-13",
          "2023-01-14",
          "2023-01-15",
          "2023-01-16",
          "2023-01-17",
          "2023-01-18",
          "2023-01-19",
          "2023-01-20",
          "2023-01-21",
          "2023-01-22",
          "2023-01-23",
          "2023-01-24",
          "2023-01-25",
          "2023-01-26",
          "2023-01-27",
          "2023-01-28",
          "2023-01-29",
          "2023-01-30",
          "2023-01-31",
          "2023-02-01",
          "2023-02-02",
          "2023-02-03",
          "2023-02-04",
          "2023-02-05",
          "2023-02-06",
          "2023-02-07",
          "2023-02-08",
          "2023-02-09",
          "2023-02-10",
          "2023-02-11",
          "2023-02-12",
          "2023-02-13",
          "2023-02-14",
          "2023-02-15"
         ],
         "xaxis": "x",
         "y": [
          5.023015100427285,
          222.19646467325123,
          312.8635199377106,
          616.7634959759122,
          1309.315521751324,
          2504.5815552996564,
          88.07282216170213,
          552.1465235364378,
          81.58792127124858,
          74.27204869742636,
          86.93118228191663,
          61.4958651586118,
          264.2523712200858,
          841.9582775676669,
          252.87432739043828,
          467.90866863568755,
          122.77140907183632,
          1640.4891401738703,
          828.3954681923879,
          2592.8364014098884,
          8068.157567810577,
          2529.9679467706114,
          2722.6774355983403,
          6066.442454020801,
          8600.857643796337,
          3583.327937577674,
          1438.567779675924,
          1960.1937365970703,
          2374.0149379954564,
          2692.2777188442174,
          1427.5440703812244,
          1850.679827851234,
          1038.0744154886463,
          4101.030418856954,
          591.1616868707205,
          3028.8183383498604,
          3409.444459865944,
          2099.4019081545434,
          921.921525103246,
          623.5406506533111,
          2937.2508298392595,
          8613.529996754882,
          2318.5185830204828,
          7197.523420813865,
          3745.3541333265125,
          2626.202323906967,
          272.8402419006225,
          1692.4301508659983,
          5436.044766203925,
          2764.512681931963,
          3873.621146345376,
          23317.395138567405,
          10102.628658193596,
          8620.208555728757,
          9529.883384185037,
          18908.92997075496,
          9426.6635852228,
          11919.339284844757
         ],
         "yaxis": "y"
        },
        {
         "alignmentgroup": "True",
         "hovertemplate": "trackingCode=decentrex<br>day=%{x}<br>feesPaid=%{y}<extra></extra>",
         "legendgroup": "decentrex",
         "marker": {
          "color": "#00cc96",
          "pattern": {
           "shape": ""
          }
         },
         "name": "decentrex",
         "offsetgroup": "decentrex",
         "orientation": "v",
         "showlegend": true,
         "textposition": "auto",
         "type": "bar",
         "x": [
          "2022-12-21",
          "2022-12-22",
          "2022-12-23",
          "2022-12-24",
          "2022-12-25",
          "2022-12-26",
          "2022-12-27",
          "2022-12-28",
          "2022-12-29",
          "2022-12-30",
          "2022-12-31",
          "2023-01-01",
          "2023-01-02",
          "2023-01-03",
          "2023-01-04",
          "2023-01-05",
          "2023-01-06",
          "2023-01-07",
          "2023-01-08",
          "2023-01-09",
          "2023-01-10",
          "2023-01-11",
          "2023-01-12",
          "2023-01-13",
          "2023-01-14",
          "2023-01-15",
          "2023-01-16",
          "2023-01-17",
          "2023-01-18",
          "2023-01-19",
          "2023-01-20",
          "2023-01-21",
          "2023-01-22",
          "2023-01-23",
          "2023-01-24",
          "2023-01-25",
          "2023-01-26",
          "2023-01-27",
          "2023-01-28",
          "2023-01-29",
          "2023-01-31",
          "2023-02-01",
          "2023-02-02",
          "2023-02-03",
          "2023-02-04",
          "2023-02-05",
          "2023-02-06",
          "2023-02-07",
          "2023-02-08",
          "2023-02-09",
          "2023-02-10",
          "2023-02-11",
          "2023-02-12",
          "2023-02-13",
          "2023-02-14",
          "2023-02-15"
         ],
         "xaxis": "x",
         "y": [
          11.051647068113661,
          5.115701541085739,
          206.52378946487113,
          31.090142896952987,
          12.058038074783372,
          27.135318006848518,
          52.70460357509742,
          37.76109625622517,
          11.608563999861047,
          8.94318373811671,
          20.70599889460498,
          7.352110937943742,
          6.441540940082568,
          37.04850572042086,
          682.9423971922454,
          206.55172494394435,
          179.14514031030453,
          29.574641641173532,
          24.658307229589276,
          45.13443040071348,
          212.1846887220526,
          672.6965784202681,
          252.68194713570944,
          95.89027123660702,
          155.18048899570354,
          40.48918858891566,
          82.11071701098874,
          26.02829416618692,
          162.75686158719984,
          407.2222954856352,
          756.4126917641788,
          15.613364412011446,
          17.250863253326635,
          35.15323854139336,
          50.7723399375733,
          460.20587104646836,
          185.8971718998048,
          33.201366420305334,
          2.801273501470068,
          5.828442242910255,
          2.4983180734063466,
          33.96059061691652,
          180.45825552513614,
          116.26337277505505,
          2.409087128946875,
          70.38088148911791,
          13.129327093525276,
          365.83332884617806,
          411.51041977059833,
          1653.4899949621897,
          240.5020328224347,
          127.915538724814,
          34.02335668218204,
          4.363436884875357,
          196.2725570964211,
          126.78080749650178
         ],
         "yaxis": "y"
        },
        {
         "alignmentgroup": "True",
         "hovertemplate": "trackingCode=polynomial<br>day=%{x}<br>feesPaid=%{y}<extra></extra>",
         "legendgroup": "polynomial",
         "marker": {
          "color": "#ab63fa",
          "pattern": {
           "shape": ""
          }
         },
         "name": "polynomial",
         "offsetgroup": "polynomial",
         "orientation": "v",
         "showlegend": true,
         "textposition": "auto",
         "type": "bar",
         "x": [
          "2023-01-18",
          "2023-01-19",
          "2023-01-20",
          "2023-01-22",
          "2023-01-24",
          "2023-01-25",
          "2023-01-26",
          "2023-01-27",
          "2023-01-29",
          "2023-01-30",
          "2023-01-31",
          "2023-02-01",
          "2023-02-02",
          "2023-02-03",
          "2023-02-04",
          "2023-02-05",
          "2023-02-06",
          "2023-02-07",
          "2023-02-08",
          "2023-02-09",
          "2023-02-10",
          "2023-02-11",
          "2023-02-12",
          "2023-02-13",
          "2023-02-14",
          "2023-02-15"
         ],
         "xaxis": "x",
         "y": [
          4.276627886944321,
          12.711286005385658,
          4.75595405875005,
          2.045204426399341,
          24.48965413009607,
          20.674147575978832,
          17.90849655466405,
          16.701192302742694,
          2.524866361391808,
          15.436161760057706,
          4.038283335242786,
          144.41161610353385,
          279.24927557759173,
          147.2087753854414,
          164.0915917607688,
          150.0938237809353,
          48.23847567159508,
          67.91174250803442,
          47.30918955429762,
          71.87986457243676,
          54.190957789779624,
          62.102241090355506,
          28.338939696520832,
          55.03327529932844,
          94.34852029207262,
          58.685238177355515
         ],
         "yaxis": "y"
        },
        {
         "alignmentgroup": "True",
         "hovertemplate": "trackingCode=DHEDGE<br>day=%{x}<br>feesPaid=%{y}<extra></extra>",
         "legendgroup": "DHEDGE",
         "marker": {
          "color": "#FFA15A",
          "pattern": {
           "shape": ""
          }
         },
         "name": "DHEDGE",
         "offsetgroup": "DHEDGE",
         "orientation": "v",
         "showlegend": true,
         "textposition": "auto",
         "type": "bar",
         "x": [
          "2023-02-09",
          "2023-02-10",
          "2023-02-13",
          "2023-02-14",
          "2023-02-15"
         ],
         "xaxis": "x",
         "y": [
          2.007579882021697,
          19.291658257314005,
          6.057568318780481,
          2.012078378057627,
          10.092010346821068
         ],
         "yaxis": "y"
        }
       ],
       "layout": {
        "barmode": "relative",
        "legend": {
         "title": {
          "text": "trackingCode"
         },
         "tracegroupgap": 0
        },
        "margin": {
         "t": 60
        },
        "template": {
         "data": {
          "bar": [
           {
            "error_x": {
             "color": "#2a3f5f"
            },
            "error_y": {
             "color": "#2a3f5f"
            },
            "marker": {
             "line": {
              "color": "#E5ECF6",
              "width": 0.5
             },
             "pattern": {
              "fillmode": "overlay",
              "size": 10,
              "solidity": 0.2
             }
            },
            "type": "bar"
           }
          ],
          "barpolar": [
           {
            "marker": {
             "line": {
              "color": "#E5ECF6",
              "width": 0.5
             },
             "pattern": {
              "fillmode": "overlay",
              "size": 10,
              "solidity": 0.2
             }
            },
            "type": "barpolar"
           }
          ],
          "carpet": [
           {
            "aaxis": {
             "endlinecolor": "#2a3f5f",
             "gridcolor": "white",
             "linecolor": "white",
             "minorgridcolor": "white",
             "startlinecolor": "#2a3f5f"
            },
            "baxis": {
             "endlinecolor": "#2a3f5f",
             "gridcolor": "white",
             "linecolor": "white",
             "minorgridcolor": "white",
             "startlinecolor": "#2a3f5f"
            },
            "type": "carpet"
           }
          ],
          "choropleth": [
           {
            "colorbar": {
             "outlinewidth": 0,
             "ticks": ""
            },
            "type": "choropleth"
           }
          ],
          "contour": [
           {
            "colorbar": {
             "outlinewidth": 0,
             "ticks": ""
            },
            "colorscale": [
             [
              0,
              "#0d0887"
             ],
             [
              0.1111111111111111,
              "#46039f"
             ],
             [
              0.2222222222222222,
              "#7201a8"
             ],
             [
              0.3333333333333333,
              "#9c179e"
             ],
             [
              0.4444444444444444,
              "#bd3786"
             ],
             [
              0.5555555555555556,
              "#d8576b"
             ],
             [
              0.6666666666666666,
              "#ed7953"
             ],
             [
              0.7777777777777778,
              "#fb9f3a"
             ],
             [
              0.8888888888888888,
              "#fdca26"
             ],
             [
              1,
              "#f0f921"
             ]
            ],
            "type": "contour"
           }
          ],
          "contourcarpet": [
           {
            "colorbar": {
             "outlinewidth": 0,
             "ticks": ""
            },
            "type": "contourcarpet"
           }
          ],
          "heatmap": [
           {
            "colorbar": {
             "outlinewidth": 0,
             "ticks": ""
            },
            "colorscale": [
             [
              0,
              "#0d0887"
             ],
             [
              0.1111111111111111,
              "#46039f"
             ],
             [
              0.2222222222222222,
              "#7201a8"
             ],
             [
              0.3333333333333333,
              "#9c179e"
             ],
             [
              0.4444444444444444,
              "#bd3786"
             ],
             [
              0.5555555555555556,
              "#d8576b"
             ],
             [
              0.6666666666666666,
              "#ed7953"
             ],
             [
              0.7777777777777778,
              "#fb9f3a"
             ],
             [
              0.8888888888888888,
              "#fdca26"
             ],
             [
              1,
              "#f0f921"
             ]
            ],
            "type": "heatmap"
           }
          ],
          "heatmapgl": [
           {
            "colorbar": {
             "outlinewidth": 0,
             "ticks": ""
            },
            "colorscale": [
             [
              0,
              "#0d0887"
             ],
             [
              0.1111111111111111,
              "#46039f"
             ],
             [
              0.2222222222222222,
              "#7201a8"
             ],
             [
              0.3333333333333333,
              "#9c179e"
             ],
             [
              0.4444444444444444,
              "#bd3786"
             ],
             [
              0.5555555555555556,
              "#d8576b"
             ],
             [
              0.6666666666666666,
              "#ed7953"
             ],
             [
              0.7777777777777778,
              "#fb9f3a"
             ],
             [
              0.8888888888888888,
              "#fdca26"
             ],
             [
              1,
              "#f0f921"
             ]
            ],
            "type": "heatmapgl"
           }
          ],
          "histogram": [
           {
            "marker": {
             "pattern": {
              "fillmode": "overlay",
              "size": 10,
              "solidity": 0.2
             }
            },
            "type": "histogram"
           }
          ],
          "histogram2d": [
           {
            "colorbar": {
             "outlinewidth": 0,
             "ticks": ""
            },
            "colorscale": [
             [
              0,
              "#0d0887"
             ],
             [
              0.1111111111111111,
              "#46039f"
             ],
             [
              0.2222222222222222,
              "#7201a8"
             ],
             [
              0.3333333333333333,
              "#9c179e"
             ],
             [
              0.4444444444444444,
              "#bd3786"
             ],
             [
              0.5555555555555556,
              "#d8576b"
             ],
             [
              0.6666666666666666,
              "#ed7953"
             ],
             [
              0.7777777777777778,
              "#fb9f3a"
             ],
             [
              0.8888888888888888,
              "#fdca26"
             ],
             [
              1,
              "#f0f921"
             ]
            ],
            "type": "histogram2d"
           }
          ],
          "histogram2dcontour": [
           {
            "colorbar": {
             "outlinewidth": 0,
             "ticks": ""
            },
            "colorscale": [
             [
              0,
              "#0d0887"
             ],
             [
              0.1111111111111111,
              "#46039f"
             ],
             [
              0.2222222222222222,
              "#7201a8"
             ],
             [
              0.3333333333333333,
              "#9c179e"
             ],
             [
              0.4444444444444444,
              "#bd3786"
             ],
             [
              0.5555555555555556,
              "#d8576b"
             ],
             [
              0.6666666666666666,
              "#ed7953"
             ],
             [
              0.7777777777777778,
              "#fb9f3a"
             ],
             [
              0.8888888888888888,
              "#fdca26"
             ],
             [
              1,
              "#f0f921"
             ]
            ],
            "type": "histogram2dcontour"
           }
          ],
          "mesh3d": [
           {
            "colorbar": {
             "outlinewidth": 0,
             "ticks": ""
            },
            "type": "mesh3d"
           }
          ],
          "parcoords": [
           {
            "line": {
             "colorbar": {
              "outlinewidth": 0,
              "ticks": ""
             }
            },
            "type": "parcoords"
           }
          ],
          "pie": [
           {
            "automargin": true,
            "type": "pie"
           }
          ],
          "scatter": [
           {
            "fillpattern": {
             "fillmode": "overlay",
             "size": 10,
             "solidity": 0.2
            },
            "type": "scatter"
           }
          ],
          "scatter3d": [
           {
            "line": {
             "colorbar": {
              "outlinewidth": 0,
              "ticks": ""
             }
            },
            "marker": {
             "colorbar": {
              "outlinewidth": 0,
              "ticks": ""
             }
            },
            "type": "scatter3d"
           }
          ],
          "scattercarpet": [
           {
            "marker": {
             "colorbar": {
              "outlinewidth": 0,
              "ticks": ""
             }
            },
            "type": "scattercarpet"
           }
          ],
          "scattergeo": [
           {
            "marker": {
             "colorbar": {
              "outlinewidth": 0,
              "ticks": ""
             }
            },
            "type": "scattergeo"
           }
          ],
          "scattergl": [
           {
            "marker": {
             "colorbar": {
              "outlinewidth": 0,
              "ticks": ""
             }
            },
            "type": "scattergl"
           }
          ],
          "scattermapbox": [
           {
            "marker": {
             "colorbar": {
              "outlinewidth": 0,
              "ticks": ""
             }
            },
            "type": "scattermapbox"
           }
          ],
          "scatterpolar": [
           {
            "marker": {
             "colorbar": {
              "outlinewidth": 0,
              "ticks": ""
             }
            },
            "type": "scatterpolar"
           }
          ],
          "scatterpolargl": [
           {
            "marker": {
             "colorbar": {
              "outlinewidth": 0,
              "ticks": ""
             }
            },
            "type": "scatterpolargl"
           }
          ],
          "scatterternary": [
           {
            "marker": {
             "colorbar": {
              "outlinewidth": 0,
              "ticks": ""
             }
            },
            "type": "scatterternary"
           }
          ],
          "surface": [
           {
            "colorbar": {
             "outlinewidth": 0,
             "ticks": ""
            },
            "colorscale": [
             [
              0,
              "#0d0887"
             ],
             [
              0.1111111111111111,
              "#46039f"
             ],
             [
              0.2222222222222222,
              "#7201a8"
             ],
             [
              0.3333333333333333,
              "#9c179e"
             ],
             [
              0.4444444444444444,
              "#bd3786"
             ],
             [
              0.5555555555555556,
              "#d8576b"
             ],
             [
              0.6666666666666666,
              "#ed7953"
             ],
             [
              0.7777777777777778,
              "#fb9f3a"
             ],
             [
              0.8888888888888888,
              "#fdca26"
             ],
             [
              1,
              "#f0f921"
             ]
            ],
            "type": "surface"
           }
          ],
          "table": [
           {
            "cells": {
             "fill": {
              "color": "#EBF0F8"
             },
             "line": {
              "color": "white"
             }
            },
            "header": {
             "fill": {
              "color": "#C8D4E3"
             },
             "line": {
              "color": "white"
             }
            },
            "type": "table"
           }
          ]
         },
         "layout": {
          "annotationdefaults": {
           "arrowcolor": "#2a3f5f",
           "arrowhead": 0,
           "arrowwidth": 1
          },
          "autotypenumbers": "strict",
          "coloraxis": {
           "colorbar": {
            "outlinewidth": 0,
            "ticks": ""
           }
          },
          "colorscale": {
           "diverging": [
            [
             0,
             "#8e0152"
            ],
            [
             0.1,
             "#c51b7d"
            ],
            [
             0.2,
             "#de77ae"
            ],
            [
             0.3,
             "#f1b6da"
            ],
            [
             0.4,
             "#fde0ef"
            ],
            [
             0.5,
             "#f7f7f7"
            ],
            [
             0.6,
             "#e6f5d0"
            ],
            [
             0.7,
             "#b8e186"
            ],
            [
             0.8,
             "#7fbc41"
            ],
            [
             0.9,
             "#4d9221"
            ],
            [
             1,
             "#276419"
            ]
           ],
           "sequential": [
            [
             0,
             "#0d0887"
            ],
            [
             0.1111111111111111,
             "#46039f"
            ],
            [
             0.2222222222222222,
             "#7201a8"
            ],
            [
             0.3333333333333333,
             "#9c179e"
            ],
            [
             0.4444444444444444,
             "#bd3786"
            ],
            [
             0.5555555555555556,
             "#d8576b"
            ],
            [
             0.6666666666666666,
             "#ed7953"
            ],
            [
             0.7777777777777778,
             "#fb9f3a"
            ],
            [
             0.8888888888888888,
             "#fdca26"
            ],
            [
             1,
             "#f0f921"
            ]
           ],
           "sequentialminus": [
            [
             0,
             "#0d0887"
            ],
            [
             0.1111111111111111,
             "#46039f"
            ],
            [
             0.2222222222222222,
             "#7201a8"
            ],
            [
             0.3333333333333333,
             "#9c179e"
            ],
            [
             0.4444444444444444,
             "#bd3786"
            ],
            [
             0.5555555555555556,
             "#d8576b"
            ],
            [
             0.6666666666666666,
             "#ed7953"
            ],
            [
             0.7777777777777778,
             "#fb9f3a"
            ],
            [
             0.8888888888888888,
             "#fdca26"
            ],
            [
             1,
             "#f0f921"
            ]
           ]
          },
          "colorway": [
           "#636efa",
           "#EF553B",
           "#00cc96",
           "#ab63fa",
           "#FFA15A",
           "#19d3f3",
           "#FF6692",
           "#B6E880",
           "#FF97FF",
           "#FECB52"
          ],
          "font": {
           "color": "#2a3f5f"
          },
          "geo": {
           "bgcolor": "white",
           "lakecolor": "white",
           "landcolor": "#E5ECF6",
           "showlakes": true,
           "showland": true,
           "subunitcolor": "white"
          },
          "hoverlabel": {
           "align": "left"
          },
          "hovermode": "closest",
          "mapbox": {
           "style": "light"
          },
          "paper_bgcolor": "white",
          "plot_bgcolor": "#E5ECF6",
          "polar": {
           "angularaxis": {
            "gridcolor": "white",
            "linecolor": "white",
            "ticks": ""
           },
           "bgcolor": "#E5ECF6",
           "radialaxis": {
            "gridcolor": "white",
            "linecolor": "white",
            "ticks": ""
           }
          },
          "scene": {
           "xaxis": {
            "backgroundcolor": "#E5ECF6",
            "gridcolor": "white",
            "gridwidth": 2,
            "linecolor": "white",
            "showbackground": true,
            "ticks": "",
            "zerolinecolor": "white"
           },
           "yaxis": {
            "backgroundcolor": "#E5ECF6",
            "gridcolor": "white",
            "gridwidth": 2,
            "linecolor": "white",
            "showbackground": true,
            "ticks": "",
            "zerolinecolor": "white"
           },
           "zaxis": {
            "backgroundcolor": "#E5ECF6",
            "gridcolor": "white",
            "gridwidth": 2,
            "linecolor": "white",
            "showbackground": true,
            "ticks": "",
            "zerolinecolor": "white"
           }
          },
          "shapedefaults": {
           "line": {
            "color": "#2a3f5f"
           }
          },
          "ternary": {
           "aaxis": {
            "gridcolor": "white",
            "linecolor": "white",
            "ticks": ""
           },
           "baxis": {
            "gridcolor": "white",
            "linecolor": "white",
            "ticks": ""
           },
           "bgcolor": "#E5ECF6",
           "caxis": {
            "gridcolor": "white",
            "linecolor": "white",
            "ticks": ""
           }
          },
          "title": {
           "x": 0.05
          },
          "xaxis": {
           "automargin": true,
           "gridcolor": "white",
           "linecolor": "white",
           "ticks": "",
           "title": {
            "standoff": 15
           },
           "zerolinecolor": "white",
           "zerolinewidth": 2
          },
          "yaxis": {
           "automargin": true,
           "gridcolor": "white",
           "linecolor": "white",
           "ticks": "",
           "title": {
            "standoff": 15
           },
           "zerolinecolor": "white",
           "zerolinewidth": 2
          }
         }
        },
        "xaxis": {
         "anchor": "y",
         "domain": [
          0,
          1
         ],
         "title": {
          "text": "day"
         }
        },
        "yaxis": {
         "anchor": "x",
         "domain": [
          0,
          1
         ],
         "title": {
          "text": "feesPaid"
         }
        }
       }
      }
     },
     "metadata": {},
     "output_type": "display_data"
    }
   ],
   "source": [
    "fig = px.bar(\n",
    "    df_fees,\n",
    "    x='day',\n",
    "    y='feesPaid',\n",
    "    color='trackingCode',\n",
    ")\n",
    "fig.show()\n"
   ]
  },
  {
   "cell_type": "code",
   "execution_count": 46,
   "id": "ba5a1332",
   "metadata": {},
   "outputs": [
    {
     "data": {
      "text/plain": [
       "day\n",
       "2023-01-22     4120.326487\n",
       "2023-01-23      682.491159\n",
       "2023-01-24     7515.175319\n",
       "2023-01-25     3907.575470\n",
       "2023-01-26     2309.134444\n",
       "2023-01-27     1099.283485\n",
       "2023-01-28      626.411977\n",
       "2023-01-29     3431.633992\n",
       "2023-01-30     8669.410773\n",
       "2023-01-31     2334.078679\n",
       "2023-02-01     7483.179520\n",
       "2023-02-02     4336.623824\n",
       "2023-02-03     2925.378704\n",
       "2023-02-04      478.471722\n",
       "2023-02-05     1912.904856\n",
       "2023-02-06     5582.977081\n",
       "2023-02-07     3198.930321\n",
       "2023-02-08     4419.030338\n",
       "2023-02-09    26076.789211\n",
       "2023-02-10    11349.227274\n",
       "2023-02-11     8862.377909\n",
       "2023-02-12     9816.440017\n",
       "2023-02-13    19730.460676\n",
       "2023-02-14    10273.127024\n",
       "2023-02-15    14134.200929\n",
       "Name: feesPaid, dtype: float64"
      ]
     },
     "execution_count": 46,
     "metadata": {},
     "output_type": "execute_result"
    }
   ],
   "source": [
    "df_fees.groupby('day')['feesPaid'].sum().tail(25)"
   ]
  }
 ],
 "metadata": {
  "kernelspec": {
   "display_name": "kwenta38",
   "language": "python",
   "name": "python3"
  },
  "language_info": {
   "codemirror_mode": {
    "name": "ipython",
    "version": 3
   },
   "file_extension": ".py",
   "mimetype": "text/x-python",
   "name": "python",
   "nbconvert_exporter": "python",
   "pygments_lexer": "ipython3",
   "version": "3.8.9"
  },
  "vscode": {
   "interpreter": {
    "hash": "b29d4b9031a96d5c8ac1ec51d929b171df48f8c82b748c2bf3686a1471bb4fbd"
   }
  }
 },
 "nbformat": 4,
 "nbformat_minor": 5
}
