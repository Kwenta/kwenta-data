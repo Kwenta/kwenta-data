{
 "cells": [
  {
   "attachments": {},
   "cell_type": "markdown",
   "id": "a28a92e9",
   "metadata": {},
   "source": [
    "# Analysis Template\n",
    "\n",
    "A template with the tools to get started pulling data from a local db."
   ]
  },
  {
   "cell_type": "code",
   "execution_count": 3,
   "id": "58de3189",
   "metadata": {},
   "outputs": [],
   "source": [
    "import os\n",
    "import asyncio\n",
    "import requests\n",
    "import pandas as pd\n",
    "import json\n",
    "from gql import Client, gql\n",
    "from gql.transport.aiohttp import AIOHTTPTransport\n",
    "from decimal import Decimal\n",
    "import sqlite3\n",
    "import plotly.express as px\n",
    "\n",
    "pd.options.display.float_format = '{:.4f}'.format"
   ]
  },
  {
   "cell_type": "code",
   "execution_count": 4,
   "id": "f8fc39a7",
   "metadata": {},
   "outputs": [],
   "source": [
    "## constants\n",
    "INFURA_KEY = os.getenv('INFURA_KEY')\n",
    "\n",
    "# set up sqlite connection\n",
    "con = sqlite3.connect(\"../../data/perps.db\")\n"
   ]
  },
  {
   "cell_type": "code",
   "execution_count": 5,
   "id": "f780bfab",
   "metadata": {},
   "outputs": [
    {
     "data": {
      "text/html": [
       "<div>\n",
       "<style scoped>\n",
       "    .dataframe tbody tr th:only-of-type {\n",
       "        vertical-align: middle;\n",
       "    }\n",
       "\n",
       "    .dataframe tbody tr th {\n",
       "        vertical-align: top;\n",
       "    }\n",
       "\n",
       "    .dataframe thead th {\n",
       "        text-align: right;\n",
       "    }\n",
       "</style>\n",
       "<table border=\"1\" class=\"dataframe\">\n",
       "  <thead>\n",
       "    <tr style=\"text-align: right;\">\n",
       "      <th></th>\n",
       "      <th>id</th>\n",
       "      <th>account</th>\n",
       "      <th>abstractAccount</th>\n",
       "      <th>accountType</th>\n",
       "      <th>timestamp</th>\n",
       "      <th>asset</th>\n",
       "      <th>marketKey</th>\n",
       "      <th>orderType</th>\n",
       "      <th>price</th>\n",
       "      <th>margin</th>\n",
       "      <th>positionId</th>\n",
       "      <th>feesPaid</th>\n",
       "      <th>pnl</th>\n",
       "      <th>size</th>\n",
       "      <th>positionSize</th>\n",
       "      <th>positionClosed</th>\n",
       "      <th>trackingCode</th>\n",
       "      <th>date</th>\n",
       "      <th>day</th>\n",
       "      <th>volume</th>\n",
       "    </tr>\n",
       "  </thead>\n",
       "  <tbody>\n",
       "    <tr>\n",
       "      <th>0</th>\n",
       "      <td>0x00000bc7dff9d0236799f8505937d39cde71e13ccf79...</td>\n",
       "      <td>0xac9c065b1a84a486628fd20efc9426e435ba7cc2</td>\n",
       "      <td>0xac9c065b1a84a486628fd20efc9426e435ba7cc2</td>\n",
       "      <td>isolated_margin</td>\n",
       "      <td>1680895361</td>\n",
       "      <td>SOL</td>\n",
       "      <td>sSOLPERP</td>\n",
       "      <td>DelayedOffchain</td>\n",
       "      <td>20.4749</td>\n",
       "      <td>104.2841</td>\n",
       "      <td>0x0ea09d97b4084d859328ec4bf8ebcf9ecca26f1d-0x3bd</td>\n",
       "      <td>2.4886</td>\n",
       "      <td>-7.2137</td>\n",
       "      <td>29.8275</td>\n",
       "      <td>0.0000</td>\n",
       "      <td>1</td>\n",
       "      <td>KWENTA</td>\n",
       "      <td>2023-04-07 19:22:41</td>\n",
       "      <td>2023-04-07</td>\n",
       "      <td>610.7163</td>\n",
       "    </tr>\n",
       "    <tr>\n",
       "      <th>1</th>\n",
       "      <td>0x0000709c04c4a1f048371ca2e2641740b161f24db3da...</td>\n",
       "      <td>0x02bee0a17903cc1f2f48b4514ec23aae547fe4a3</td>\n",
       "      <td>0x02bee0a17903cc1f2f48b4514ec23aae547fe4a3</td>\n",
       "      <td>isolated_margin</td>\n",
       "      <td>1678414645</td>\n",
       "      <td>OP</td>\n",
       "      <td>sOPPERP</td>\n",
       "      <td>DelayedOffchain</td>\n",
       "      <td>2.2136</td>\n",
       "      <td>358.1664</td>\n",
       "      <td>0x442b69937a0daf9d46439a71567fabe6cb69fbaf-0x654</td>\n",
       "      <td>17.1125</td>\n",
       "      <td>-34.9980</td>\n",
       "      <td>-4551.4423</td>\n",
       "      <td>0.0000</td>\n",
       "      <td>1</td>\n",
       "      <td>KWENTA</td>\n",
       "      <td>2023-03-10 02:17:25</td>\n",
       "      <td>2023-03-10</td>\n",
       "      <td>10074.9771</td>\n",
       "    </tr>\n",
       "    <tr>\n",
       "      <th>2</th>\n",
       "      <td>0x000080a930a760cdbe740044a11622e717257fbe7383...</td>\n",
       "      <td>0xbf975b1548f793f3bcc2ce84dcf8e78ece793914</td>\n",
       "      <td>0xbf975b1548f793f3bcc2ce84dcf8e78ece793914</td>\n",
       "      <td>isolated_margin</td>\n",
       "      <td>1678799771</td>\n",
       "      <td>OP</td>\n",
       "      <td>sOPPERP</td>\n",
       "      <td>DelayedOffchain</td>\n",
       "      <td>2.8104</td>\n",
       "      <td>43622.2839</td>\n",
       "      <td>0x442b69937a0daf9d46439a71567fabe6cb69fbaf-0x4f7</td>\n",
       "      <td>171.4718</td>\n",
       "      <td>23634.8226</td>\n",
       "      <td>-40201.7427</td>\n",
       "      <td>0.0000</td>\n",
       "      <td>1</td>\n",
       "      <td>KWENTA</td>\n",
       "      <td>2023-03-14 13:16:11</td>\n",
       "      <td>2023-03-14</td>\n",
       "      <td>112981.1980</td>\n",
       "    </tr>\n",
       "    <tr>\n",
       "      <th>3</th>\n",
       "      <td>0x000092e1e5d70976b281207016b94f03d7b5c7eca12c...</td>\n",
       "      <td>0x6662304e3198c8d54530fbdf02a869fa84537639</td>\n",
       "      <td>0x6662304e3198c8d54530fbdf02a869fa84537639</td>\n",
       "      <td>isolated_margin</td>\n",
       "      <td>1678622207</td>\n",
       "      <td>OP</td>\n",
       "      <td>sOPPERP</td>\n",
       "      <td>DelayedOffchain</td>\n",
       "      <td>1.8834</td>\n",
       "      <td>8878.5906</td>\n",
       "      <td>0x442b69937a0daf9d46439a71567fabe6cb69fbaf-0x70a</td>\n",
       "      <td>14.5350</td>\n",
       "      <td>0.0000</td>\n",
       "      <td>-6655.5716</td>\n",
       "      <td>-117749.8870</td>\n",
       "      <td>0</td>\n",
       "      <td>KWENTA</td>\n",
       "      <td>2023-03-12 11:56:47</td>\n",
       "      <td>2023-03-12</td>\n",
       "      <td>12535.0120</td>\n",
       "    </tr>\n",
       "    <tr>\n",
       "      <th>4</th>\n",
       "      <td>0x0000a7f953004419f63ce2dbc907c0f72a325efc6f2a...</td>\n",
       "      <td>0x01c8c06eb7a35f978f5629461552f57bc9783acd</td>\n",
       "      <td>0x01c8c06eb7a35f978f5629461552f57bc9783acd</td>\n",
       "      <td>isolated_margin</td>\n",
       "      <td>1680176858</td>\n",
       "      <td>sETH</td>\n",
       "      <td>sETHPERP</td>\n",
       "      <td>DelayedOffchain</td>\n",
       "      <td>1816.3878</td>\n",
       "      <td>232426.6330</td>\n",
       "      <td>0x2b3bb4c683bfc5239b029131eef3b1d214478d93-0x19e8</td>\n",
       "      <td>92.8194</td>\n",
       "      <td>0.0000</td>\n",
       "      <td>-100.0000</td>\n",
       "      <td>-450.0000</td>\n",
       "      <td>0</td>\n",
       "      <td>KWENTA</td>\n",
       "      <td>2023-03-30 11:47:38</td>\n",
       "      <td>2023-03-30</td>\n",
       "      <td>181638.7800</td>\n",
       "    </tr>\n",
       "  </tbody>\n",
       "</table>\n",
       "</div>"
      ],
      "text/plain": [
       "                                                  id  \\\n",
       "0  0x00000bc7dff9d0236799f8505937d39cde71e13ccf79...   \n",
       "1  0x0000709c04c4a1f048371ca2e2641740b161f24db3da...   \n",
       "2  0x000080a930a760cdbe740044a11622e717257fbe7383...   \n",
       "3  0x000092e1e5d70976b281207016b94f03d7b5c7eca12c...   \n",
       "4  0x0000a7f953004419f63ce2dbc907c0f72a325efc6f2a...   \n",
       "\n",
       "                                      account  \\\n",
       "0  0xac9c065b1a84a486628fd20efc9426e435ba7cc2   \n",
       "1  0x02bee0a17903cc1f2f48b4514ec23aae547fe4a3   \n",
       "2  0xbf975b1548f793f3bcc2ce84dcf8e78ece793914   \n",
       "3  0x6662304e3198c8d54530fbdf02a869fa84537639   \n",
       "4  0x01c8c06eb7a35f978f5629461552f57bc9783acd   \n",
       "\n",
       "                              abstractAccount      accountType   timestamp  \\\n",
       "0  0xac9c065b1a84a486628fd20efc9426e435ba7cc2  isolated_margin  1680895361   \n",
       "1  0x02bee0a17903cc1f2f48b4514ec23aae547fe4a3  isolated_margin  1678414645   \n",
       "2  0xbf975b1548f793f3bcc2ce84dcf8e78ece793914  isolated_margin  1678799771   \n",
       "3  0x6662304e3198c8d54530fbdf02a869fa84537639  isolated_margin  1678622207   \n",
       "4  0x01c8c06eb7a35f978f5629461552f57bc9783acd  isolated_margin  1680176858   \n",
       "\n",
       "  asset marketKey        orderType     price      margin  \\\n",
       "0   SOL  sSOLPERP  DelayedOffchain   20.4749    104.2841   \n",
       "1    OP   sOPPERP  DelayedOffchain    2.2136    358.1664   \n",
       "2    OP   sOPPERP  DelayedOffchain    2.8104  43622.2839   \n",
       "3    OP   sOPPERP  DelayedOffchain    1.8834   8878.5906   \n",
       "4  sETH  sETHPERP  DelayedOffchain 1816.3878 232426.6330   \n",
       "\n",
       "                                          positionId  feesPaid        pnl  \\\n",
       "0   0x0ea09d97b4084d859328ec4bf8ebcf9ecca26f1d-0x3bd    2.4886    -7.2137   \n",
       "1   0x442b69937a0daf9d46439a71567fabe6cb69fbaf-0x654   17.1125   -34.9980   \n",
       "2   0x442b69937a0daf9d46439a71567fabe6cb69fbaf-0x4f7  171.4718 23634.8226   \n",
       "3   0x442b69937a0daf9d46439a71567fabe6cb69fbaf-0x70a   14.5350     0.0000   \n",
       "4  0x2b3bb4c683bfc5239b029131eef3b1d214478d93-0x19e8   92.8194     0.0000   \n",
       "\n",
       "         size  positionSize  positionClosed trackingCode                date  \\\n",
       "0     29.8275        0.0000               1       KWENTA 2023-04-07 19:22:41   \n",
       "1  -4551.4423        0.0000               1       KWENTA 2023-03-10 02:17:25   \n",
       "2 -40201.7427        0.0000               1       KWENTA 2023-03-14 13:16:11   \n",
       "3  -6655.5716  -117749.8870               0       KWENTA 2023-03-12 11:56:47   \n",
       "4   -100.0000     -450.0000               0       KWENTA 2023-03-30 11:47:38   \n",
       "\n",
       "          day      volume  \n",
       "0  2023-04-07    610.7163  \n",
       "1  2023-03-10  10074.9771  \n",
       "2  2023-03-14 112981.1980  \n",
       "3  2023-03-12  12535.0120  \n",
       "4  2023-03-30 181638.7800  "
      ]
     },
     "execution_count": 5,
     "metadata": {},
     "output_type": "execute_result"
    }
   ],
   "source": [
    "df_trades = pd.read_sql_query('SELECT * FROM trades', con)\n",
    "df_trades['date'] = pd.to_datetime(df_trades['timestamp'], unit='s')\n",
    "df_trades['day'] = df_trades['date'].dt.date\n",
    "df_trades['volume'] = abs(df_trades['size'] * df_trades['price'])\n",
    "\n",
    "df_trades.head(5)"
   ]
  },
  {
   "cell_type": "code",
   "execution_count": 13,
   "id": "64942ea9",
   "metadata": {},
   "outputs": [],
   "source": [
    "df_volume = df_trades.groupby('day').agg({'volume': 'sum'}).reset_index()\n",
    "df_volume['volume_trailing'] = df_volume['volume'].rolling(7).sum()"
   ]
  },
  {
   "cell_type": "code",
   "execution_count": 14,
   "id": "07690164",
   "metadata": {},
   "outputs": [
    {
     "data": {
      "text/html": [
       "<div>\n",
       "<style scoped>\n",
       "    .dataframe tbody tr th:only-of-type {\n",
       "        vertical-align: middle;\n",
       "    }\n",
       "\n",
       "    .dataframe tbody tr th {\n",
       "        vertical-align: top;\n",
       "    }\n",
       "\n",
       "    .dataframe thead th {\n",
       "        text-align: right;\n",
       "    }\n",
       "</style>\n",
       "<table border=\"1\" class=\"dataframe\">\n",
       "  <thead>\n",
       "    <tr style=\"text-align: right;\">\n",
       "      <th></th>\n",
       "      <th>day</th>\n",
       "      <th>volume</th>\n",
       "      <th>volume_trailing</th>\n",
       "    </tr>\n",
       "  </thead>\n",
       "  <tbody>\n",
       "    <tr>\n",
       "      <th>0</th>\n",
       "      <td>2022-12-20</td>\n",
       "      <td>32.0280</td>\n",
       "      <td>NaN</td>\n",
       "    </tr>\n",
       "    <tr>\n",
       "      <th>1</th>\n",
       "      <td>2022-12-21</td>\n",
       "      <td>185700.7861</td>\n",
       "      <td>NaN</td>\n",
       "    </tr>\n",
       "    <tr>\n",
       "      <th>2</th>\n",
       "      <td>2022-12-22</td>\n",
       "      <td>364307.4995</td>\n",
       "      <td>NaN</td>\n",
       "    </tr>\n",
       "    <tr>\n",
       "      <th>3</th>\n",
       "      <td>2022-12-23</td>\n",
       "      <td>854106.0617</td>\n",
       "      <td>NaN</td>\n",
       "    </tr>\n",
       "    <tr>\n",
       "      <th>4</th>\n",
       "      <td>2022-12-24</td>\n",
       "      <td>1868442.7050</td>\n",
       "      <td>NaN</td>\n",
       "    </tr>\n",
       "    <tr>\n",
       "      <th>...</th>\n",
       "      <td>...</td>\n",
       "      <td>...</td>\n",
       "      <td>...</td>\n",
       "    </tr>\n",
       "    <tr>\n",
       "      <th>136</th>\n",
       "      <td>2023-05-05</td>\n",
       "      <td>220884420.1789</td>\n",
       "      <td>840887068.9137</td>\n",
       "    </tr>\n",
       "    <tr>\n",
       "      <th>137</th>\n",
       "      <td>2023-05-06</td>\n",
       "      <td>251048403.4402</td>\n",
       "      <td>1049354441.7716</td>\n",
       "    </tr>\n",
       "    <tr>\n",
       "      <th>138</th>\n",
       "      <td>2023-05-07</td>\n",
       "      <td>140798027.9264</td>\n",
       "      <td>1122233331.6290</td>\n",
       "    </tr>\n",
       "    <tr>\n",
       "      <th>139</th>\n",
       "      <td>2023-05-08</td>\n",
       "      <td>177217080.0779</td>\n",
       "      <td>1152871894.3987</td>\n",
       "    </tr>\n",
       "    <tr>\n",
       "      <th>140</th>\n",
       "      <td>2023-05-09</td>\n",
       "      <td>105042753.4910</td>\n",
       "      <td>1150429747.6517</td>\n",
       "    </tr>\n",
       "  </tbody>\n",
       "</table>\n",
       "<p>141 rows × 3 columns</p>\n",
       "</div>"
      ],
      "text/plain": [
       "            day         volume  volume_trailing\n",
       "0    2022-12-20        32.0280              NaN\n",
       "1    2022-12-21    185700.7861              NaN\n",
       "2    2022-12-22    364307.4995              NaN\n",
       "3    2022-12-23    854106.0617              NaN\n",
       "4    2022-12-24   1868442.7050              NaN\n",
       "..          ...            ...              ...\n",
       "136  2023-05-05 220884420.1789   840887068.9137\n",
       "137  2023-05-06 251048403.4402  1049354441.7716\n",
       "138  2023-05-07 140798027.9264  1122233331.6290\n",
       "139  2023-05-08 177217080.0779  1152871894.3987\n",
       "140  2023-05-09 105042753.4910  1150429747.6517\n",
       "\n",
       "[141 rows x 3 columns]"
      ]
     },
     "execution_count": 14,
     "metadata": {},
     "output_type": "execute_result"
    }
   ],
   "source": [
    "df_volume"
   ]
  },
  {
   "cell_type": "code",
   "execution_count": 19,
   "id": "8ff5a438",
   "metadata": {},
   "outputs": [
    {
     "data": {
      "application/vnd.plotly.v1+json": {
       "config": {
        "plotlyServerURL": "https://plot.ly"
       },
       "data": [
        {
         "hovertemplate": "day=%{x}<br>volume_trailing=%{y}<extra></extra>",
         "legendgroup": "",
         "line": {
          "color": "#636efa",
          "dash": "solid"
         },
         "marker": {
          "symbol": "circle"
         },
         "mode": "lines",
         "name": "",
         "orientation": "v",
         "showlegend": false,
         "type": "scatter",
         "x": [
          "2022-12-20",
          "2022-12-21",
          "2022-12-22",
          "2022-12-23",
          "2022-12-24",
          "2022-12-25",
          "2022-12-26",
          "2022-12-27",
          "2022-12-28",
          "2022-12-29",
          "2022-12-30",
          "2022-12-31",
          "2023-01-01",
          "2023-01-02",
          "2023-01-03",
          "2023-01-04",
          "2023-01-05",
          "2023-01-06",
          "2023-01-07",
          "2023-01-08",
          "2023-01-09",
          "2023-01-10",
          "2023-01-11",
          "2023-01-12",
          "2023-01-13",
          "2023-01-14",
          "2023-01-15",
          "2023-01-16",
          "2023-01-17",
          "2023-01-18",
          "2023-01-19",
          "2023-01-20",
          "2023-01-21",
          "2023-01-22",
          "2023-01-23",
          "2023-01-24",
          "2023-01-25",
          "2023-01-26",
          "2023-01-27",
          "2023-01-28",
          "2023-01-29",
          "2023-01-30",
          "2023-01-31",
          "2023-02-01",
          "2023-02-02",
          "2023-02-03",
          "2023-02-04",
          "2023-02-05",
          "2023-02-06",
          "2023-02-07",
          "2023-02-08",
          "2023-02-09",
          "2023-02-10",
          "2023-02-11",
          "2023-02-12",
          "2023-02-13",
          "2023-02-14",
          "2023-02-15",
          "2023-02-16",
          "2023-02-17",
          "2023-02-18",
          "2023-02-19",
          "2023-02-20",
          "2023-02-21",
          "2023-02-22",
          "2023-02-23",
          "2023-02-24",
          "2023-02-25",
          "2023-02-26",
          "2023-02-27",
          "2023-02-28",
          "2023-03-01",
          "2023-03-02",
          "2023-03-03",
          "2023-03-04",
          "2023-03-05",
          "2023-03-06",
          "2023-03-07",
          "2023-03-08",
          "2023-03-09",
          "2023-03-10",
          "2023-03-11",
          "2023-03-12",
          "2023-03-13",
          "2023-03-14",
          "2023-03-15",
          "2023-03-16",
          "2023-03-17",
          "2023-03-18",
          "2023-03-19",
          "2023-03-20",
          "2023-03-21",
          "2023-03-22",
          "2023-03-23",
          "2023-03-24",
          "2023-03-25",
          "2023-03-26",
          "2023-03-27",
          "2023-03-28",
          "2023-03-29",
          "2023-03-30",
          "2023-03-31",
          "2023-04-01",
          "2023-04-02",
          "2023-04-03",
          "2023-04-04",
          "2023-04-05",
          "2023-04-06",
          "2023-04-07",
          "2023-04-08",
          "2023-04-09",
          "2023-04-10",
          "2023-04-11",
          "2023-04-12",
          "2023-04-13",
          "2023-04-14",
          "2023-04-15",
          "2023-04-16",
          "2023-04-17",
          "2023-04-18",
          "2023-04-19",
          "2023-04-20",
          "2023-04-21",
          "2023-04-22",
          "2023-04-23",
          "2023-04-24",
          "2023-04-25",
          "2023-04-26",
          "2023-04-27",
          "2023-04-28",
          "2023-04-29",
          "2023-04-30",
          "2023-05-01",
          "2023-05-02",
          "2023-05-03",
          "2023-05-04",
          "2023-05-05",
          "2023-05-06",
          "2023-05-07",
          "2023-05-08",
          "2023-05-09"
         ],
         "xaxis": "x",
         "y": [
          null,
          null,
          null,
          null,
          null,
          null,
          8168157.273349778,
          9193995.860521587,
          9249757.762449756,
          8962752.580036702,
          8202158.999502062,
          6415977.928050812,
          2032953.763182423,
          2962151.702955463,
          2283676.7890528627,
          3522051.460577854,
          3802716.2423233767,
          5939867.141303652,
          6710317.6739658695,
          9926112.215764279,
          19449994.31452469,
          22910811.309445903,
          25595034.166752815,
          34302664.12015821,
          43557255.906586945,
          47185748.30600219,
          45796661.15850699,
          37198097.40772824,
          36433827.15110526,
          36367907.104358904,
          29174990.701502893,
          21324134.167118292,
          18096207.133352973,
          21207751.30094572,
          19951398.28639667,
          21463099.5166217,
          22133916.534107015,
          23087920.303381484,
          20747467.88068587,
          20175581.888198663,
          19189746.42485558,
          29419487.587226413,
          28047217.161388155,
          32453851.50290306,
          35173075.70940007,
          37245505.093908586,
          36920727.719875,
          34844895.42724175,
          30916923.092179812,
          31698979.736862488,
          28140873.92087052,
          53354225.83869776,
          62857300.49287651,
          71732900.32467034,
          81344482.60426286,
          97273109.92611596,
          102921273.47694449,
          115600487.20250842,
          112347045.05941007,
          124577077.70761554,
          140704749.19424742,
          138321388.11223584,
          139052626.26303193,
          154240754.95601252,
          161775644.51134327,
          168091845.68078476,
          159755333.7570048,
          157351737.98609912,
          178786225.54504985,
          174885615.03820014,
          178129266.64371067,
          194695680.77600428,
          191041378.48133722,
          206283317.07853782,
          214660003.1805695,
          230278912.26189783,
          235210941.78182554,
          254360610.23544878,
          259710152.42444003,
          336320079.59141845,
          375253261.32091767,
          410308792.5626454,
          510988264.769982,
          685692493.8311224,
          749403338.9810773,
          864174815.8062983,
          843498150.9264007,
          1272168867.324895,
          1387598756.0900133,
          1360132519.868239,
          1253417055.5419858,
          1191988349.4074142,
          1151881530.5497944,
          1095019589.1534967,
          735312679.01785,
          590950797.7350142,
          570980454.9679202,
          521804024.1304258,
          597899714.3830364,
          610092733.1364223,
          854272224.4561563,
          842637097.191756,
          824274043.2012428,
          753786791.0817094,
          800480941.7728744,
          792260629.7086848,
          701646770.9819162,
          460229141.1188607,
          350736990.8427288,
          344652541.6325698,
          334507050.8078935,
          268617591.8500981,
          214444722.09600827,
          301096158.9774703,
          365732554.39888513,
          547149634.2199068,
          614393423.156125,
          795211759.283396,
          886902415.0264686,
          871864083.8606981,
          924467911.4459814,
          926443268.8574808,
          825242203.0267304,
          857228913.7629979,
          710965025.5185988,
          651820590.7680002,
          691298270.7584294,
          780508886.6436772,
          749927978.629445,
          738222271.8345591,
          668563791.406141,
          682801206.677288,
          772471639.7445763,
          792337501.5167426,
          673239819.2117215,
          707287575.9518301,
          840887068.9137068,
          1049354441.771587,
          1122233331.6290364,
          1152871894.3987403,
          1150429747.6516807
         ],
         "yaxis": "y"
        }
       ],
       "layout": {
        "legend": {
         "tracegroupgap": 0
        },
        "template": {
         "data": {
          "bar": [
           {
            "error_x": {
             "color": "#2a3f5f"
            },
            "error_y": {
             "color": "#2a3f5f"
            },
            "marker": {
             "line": {
              "color": "#E5ECF6",
              "width": 0.5
             },
             "pattern": {
              "fillmode": "overlay",
              "size": 10,
              "solidity": 0.2
             }
            },
            "type": "bar"
           }
          ],
          "barpolar": [
           {
            "marker": {
             "line": {
              "color": "#E5ECF6",
              "width": 0.5
             },
             "pattern": {
              "fillmode": "overlay",
              "size": 10,
              "solidity": 0.2
             }
            },
            "type": "barpolar"
           }
          ],
          "carpet": [
           {
            "aaxis": {
             "endlinecolor": "#2a3f5f",
             "gridcolor": "white",
             "linecolor": "white",
             "minorgridcolor": "white",
             "startlinecolor": "#2a3f5f"
            },
            "baxis": {
             "endlinecolor": "#2a3f5f",
             "gridcolor": "white",
             "linecolor": "white",
             "minorgridcolor": "white",
             "startlinecolor": "#2a3f5f"
            },
            "type": "carpet"
           }
          ],
          "choropleth": [
           {
            "colorbar": {
             "outlinewidth": 0,
             "ticks": ""
            },
            "type": "choropleth"
           }
          ],
          "contour": [
           {
            "colorbar": {
             "outlinewidth": 0,
             "ticks": ""
            },
            "colorscale": [
             [
              0,
              "#0d0887"
             ],
             [
              0.1111111111111111,
              "#46039f"
             ],
             [
              0.2222222222222222,
              "#7201a8"
             ],
             [
              0.3333333333333333,
              "#9c179e"
             ],
             [
              0.4444444444444444,
              "#bd3786"
             ],
             [
              0.5555555555555556,
              "#d8576b"
             ],
             [
              0.6666666666666666,
              "#ed7953"
             ],
             [
              0.7777777777777778,
              "#fb9f3a"
             ],
             [
              0.8888888888888888,
              "#fdca26"
             ],
             [
              1,
              "#f0f921"
             ]
            ],
            "type": "contour"
           }
          ],
          "contourcarpet": [
           {
            "colorbar": {
             "outlinewidth": 0,
             "ticks": ""
            },
            "type": "contourcarpet"
           }
          ],
          "heatmap": [
           {
            "colorbar": {
             "outlinewidth": 0,
             "ticks": ""
            },
            "colorscale": [
             [
              0,
              "#0d0887"
             ],
             [
              0.1111111111111111,
              "#46039f"
             ],
             [
              0.2222222222222222,
              "#7201a8"
             ],
             [
              0.3333333333333333,
              "#9c179e"
             ],
             [
              0.4444444444444444,
              "#bd3786"
             ],
             [
              0.5555555555555556,
              "#d8576b"
             ],
             [
              0.6666666666666666,
              "#ed7953"
             ],
             [
              0.7777777777777778,
              "#fb9f3a"
             ],
             [
              0.8888888888888888,
              "#fdca26"
             ],
             [
              1,
              "#f0f921"
             ]
            ],
            "type": "heatmap"
           }
          ],
          "heatmapgl": [
           {
            "colorbar": {
             "outlinewidth": 0,
             "ticks": ""
            },
            "colorscale": [
             [
              0,
              "#0d0887"
             ],
             [
              0.1111111111111111,
              "#46039f"
             ],
             [
              0.2222222222222222,
              "#7201a8"
             ],
             [
              0.3333333333333333,
              "#9c179e"
             ],
             [
              0.4444444444444444,
              "#bd3786"
             ],
             [
              0.5555555555555556,
              "#d8576b"
             ],
             [
              0.6666666666666666,
              "#ed7953"
             ],
             [
              0.7777777777777778,
              "#fb9f3a"
             ],
             [
              0.8888888888888888,
              "#fdca26"
             ],
             [
              1,
              "#f0f921"
             ]
            ],
            "type": "heatmapgl"
           }
          ],
          "histogram": [
           {
            "marker": {
             "pattern": {
              "fillmode": "overlay",
              "size": 10,
              "solidity": 0.2
             }
            },
            "type": "histogram"
           }
          ],
          "histogram2d": [
           {
            "colorbar": {
             "outlinewidth": 0,
             "ticks": ""
            },
            "colorscale": [
             [
              0,
              "#0d0887"
             ],
             [
              0.1111111111111111,
              "#46039f"
             ],
             [
              0.2222222222222222,
              "#7201a8"
             ],
             [
              0.3333333333333333,
              "#9c179e"
             ],
             [
              0.4444444444444444,
              "#bd3786"
             ],
             [
              0.5555555555555556,
              "#d8576b"
             ],
             [
              0.6666666666666666,
              "#ed7953"
             ],
             [
              0.7777777777777778,
              "#fb9f3a"
             ],
             [
              0.8888888888888888,
              "#fdca26"
             ],
             [
              1,
              "#f0f921"
             ]
            ],
            "type": "histogram2d"
           }
          ],
          "histogram2dcontour": [
           {
            "colorbar": {
             "outlinewidth": 0,
             "ticks": ""
            },
            "colorscale": [
             [
              0,
              "#0d0887"
             ],
             [
              0.1111111111111111,
              "#46039f"
             ],
             [
              0.2222222222222222,
              "#7201a8"
             ],
             [
              0.3333333333333333,
              "#9c179e"
             ],
             [
              0.4444444444444444,
              "#bd3786"
             ],
             [
              0.5555555555555556,
              "#d8576b"
             ],
             [
              0.6666666666666666,
              "#ed7953"
             ],
             [
              0.7777777777777778,
              "#fb9f3a"
             ],
             [
              0.8888888888888888,
              "#fdca26"
             ],
             [
              1,
              "#f0f921"
             ]
            ],
            "type": "histogram2dcontour"
           }
          ],
          "mesh3d": [
           {
            "colorbar": {
             "outlinewidth": 0,
             "ticks": ""
            },
            "type": "mesh3d"
           }
          ],
          "parcoords": [
           {
            "line": {
             "colorbar": {
              "outlinewidth": 0,
              "ticks": ""
             }
            },
            "type": "parcoords"
           }
          ],
          "pie": [
           {
            "automargin": true,
            "type": "pie"
           }
          ],
          "scatter": [
           {
            "fillpattern": {
             "fillmode": "overlay",
             "size": 10,
             "solidity": 0.2
            },
            "type": "scatter"
           }
          ],
          "scatter3d": [
           {
            "line": {
             "colorbar": {
              "outlinewidth": 0,
              "ticks": ""
             }
            },
            "marker": {
             "colorbar": {
              "outlinewidth": 0,
              "ticks": ""
             }
            },
            "type": "scatter3d"
           }
          ],
          "scattercarpet": [
           {
            "marker": {
             "colorbar": {
              "outlinewidth": 0,
              "ticks": ""
             }
            },
            "type": "scattercarpet"
           }
          ],
          "scattergeo": [
           {
            "marker": {
             "colorbar": {
              "outlinewidth": 0,
              "ticks": ""
             }
            },
            "type": "scattergeo"
           }
          ],
          "scattergl": [
           {
            "marker": {
             "colorbar": {
              "outlinewidth": 0,
              "ticks": ""
             }
            },
            "type": "scattergl"
           }
          ],
          "scattermapbox": [
           {
            "marker": {
             "colorbar": {
              "outlinewidth": 0,
              "ticks": ""
             }
            },
            "type": "scattermapbox"
           }
          ],
          "scatterpolar": [
           {
            "marker": {
             "colorbar": {
              "outlinewidth": 0,
              "ticks": ""
             }
            },
            "type": "scatterpolar"
           }
          ],
          "scatterpolargl": [
           {
            "marker": {
             "colorbar": {
              "outlinewidth": 0,
              "ticks": ""
             }
            },
            "type": "scatterpolargl"
           }
          ],
          "scatterternary": [
           {
            "marker": {
             "colorbar": {
              "outlinewidth": 0,
              "ticks": ""
             }
            },
            "type": "scatterternary"
           }
          ],
          "surface": [
           {
            "colorbar": {
             "outlinewidth": 0,
             "ticks": ""
            },
            "colorscale": [
             [
              0,
              "#0d0887"
             ],
             [
              0.1111111111111111,
              "#46039f"
             ],
             [
              0.2222222222222222,
              "#7201a8"
             ],
             [
              0.3333333333333333,
              "#9c179e"
             ],
             [
              0.4444444444444444,
              "#bd3786"
             ],
             [
              0.5555555555555556,
              "#d8576b"
             ],
             [
              0.6666666666666666,
              "#ed7953"
             ],
             [
              0.7777777777777778,
              "#fb9f3a"
             ],
             [
              0.8888888888888888,
              "#fdca26"
             ],
             [
              1,
              "#f0f921"
             ]
            ],
            "type": "surface"
           }
          ],
          "table": [
           {
            "cells": {
             "fill": {
              "color": "#EBF0F8"
             },
             "line": {
              "color": "white"
             }
            },
            "header": {
             "fill": {
              "color": "#C8D4E3"
             },
             "line": {
              "color": "white"
             }
            },
            "type": "table"
           }
          ]
         },
         "layout": {
          "annotationdefaults": {
           "arrowcolor": "#2a3f5f",
           "arrowhead": 0,
           "arrowwidth": 1
          },
          "autotypenumbers": "strict",
          "coloraxis": {
           "colorbar": {
            "outlinewidth": 0,
            "ticks": ""
           }
          },
          "colorscale": {
           "diverging": [
            [
             0,
             "#8e0152"
            ],
            [
             0.1,
             "#c51b7d"
            ],
            [
             0.2,
             "#de77ae"
            ],
            [
             0.3,
             "#f1b6da"
            ],
            [
             0.4,
             "#fde0ef"
            ],
            [
             0.5,
             "#f7f7f7"
            ],
            [
             0.6,
             "#e6f5d0"
            ],
            [
             0.7,
             "#b8e186"
            ],
            [
             0.8,
             "#7fbc41"
            ],
            [
             0.9,
             "#4d9221"
            ],
            [
             1,
             "#276419"
            ]
           ],
           "sequential": [
            [
             0,
             "#0d0887"
            ],
            [
             0.1111111111111111,
             "#46039f"
            ],
            [
             0.2222222222222222,
             "#7201a8"
            ],
            [
             0.3333333333333333,
             "#9c179e"
            ],
            [
             0.4444444444444444,
             "#bd3786"
            ],
            [
             0.5555555555555556,
             "#d8576b"
            ],
            [
             0.6666666666666666,
             "#ed7953"
            ],
            [
             0.7777777777777778,
             "#fb9f3a"
            ],
            [
             0.8888888888888888,
             "#fdca26"
            ],
            [
             1,
             "#f0f921"
            ]
           ],
           "sequentialminus": [
            [
             0,
             "#0d0887"
            ],
            [
             0.1111111111111111,
             "#46039f"
            ],
            [
             0.2222222222222222,
             "#7201a8"
            ],
            [
             0.3333333333333333,
             "#9c179e"
            ],
            [
             0.4444444444444444,
             "#bd3786"
            ],
            [
             0.5555555555555556,
             "#d8576b"
            ],
            [
             0.6666666666666666,
             "#ed7953"
            ],
            [
             0.7777777777777778,
             "#fb9f3a"
            ],
            [
             0.8888888888888888,
             "#fdca26"
            ],
            [
             1,
             "#f0f921"
            ]
           ]
          },
          "colorway": [
           "#636efa",
           "#EF553B",
           "#00cc96",
           "#ab63fa",
           "#FFA15A",
           "#19d3f3",
           "#FF6692",
           "#B6E880",
           "#FF97FF",
           "#FECB52"
          ],
          "font": {
           "color": "#2a3f5f"
          },
          "geo": {
           "bgcolor": "white",
           "lakecolor": "white",
           "landcolor": "#E5ECF6",
           "showlakes": true,
           "showland": true,
           "subunitcolor": "white"
          },
          "hoverlabel": {
           "align": "left"
          },
          "hovermode": "closest",
          "mapbox": {
           "style": "light"
          },
          "paper_bgcolor": "white",
          "plot_bgcolor": "#E5ECF6",
          "polar": {
           "angularaxis": {
            "gridcolor": "white",
            "linecolor": "white",
            "ticks": ""
           },
           "bgcolor": "#E5ECF6",
           "radialaxis": {
            "gridcolor": "white",
            "linecolor": "white",
            "ticks": ""
           }
          },
          "scene": {
           "xaxis": {
            "backgroundcolor": "#E5ECF6",
            "gridcolor": "white",
            "gridwidth": 2,
            "linecolor": "white",
            "showbackground": true,
            "ticks": "",
            "zerolinecolor": "white"
           },
           "yaxis": {
            "backgroundcolor": "#E5ECF6",
            "gridcolor": "white",
            "gridwidth": 2,
            "linecolor": "white",
            "showbackground": true,
            "ticks": "",
            "zerolinecolor": "white"
           },
           "zaxis": {
            "backgroundcolor": "#E5ECF6",
            "gridcolor": "white",
            "gridwidth": 2,
            "linecolor": "white",
            "showbackground": true,
            "ticks": "",
            "zerolinecolor": "white"
           }
          },
          "shapedefaults": {
           "line": {
            "color": "#2a3f5f"
           }
          },
          "ternary": {
           "aaxis": {
            "gridcolor": "white",
            "linecolor": "white",
            "ticks": ""
           },
           "baxis": {
            "gridcolor": "white",
            "linecolor": "white",
            "ticks": ""
           },
           "bgcolor": "#E5ECF6",
           "caxis": {
            "gridcolor": "white",
            "linecolor": "white",
            "ticks": ""
           }
          },
          "title": {
           "x": 0.05
          },
          "xaxis": {
           "automargin": true,
           "gridcolor": "white",
           "linecolor": "white",
           "ticks": "",
           "title": {
            "standoff": 15
           },
           "zerolinecolor": "white",
           "zerolinewidth": 2
          },
          "yaxis": {
           "automargin": true,
           "gridcolor": "white",
           "linecolor": "white",
           "ticks": "",
           "title": {
            "standoff": 15
           },
           "zerolinecolor": "white",
           "zerolinewidth": 2
          }
         }
        },
        "title": {
         "text": "7 Day Trailing Volume"
        },
        "xaxis": {
         "anchor": "y",
         "domain": [
          0,
          1
         ],
         "title": {
          "text": "day"
         }
        },
        "yaxis": {
         "anchor": "x",
         "domain": [
          0,
          1
         ],
         "title": {
          "text": "volume_trailing"
         }
        }
       }
      }
     },
     "metadata": {},
     "output_type": "display_data"
    }
   ],
   "source": [
    "\n",
    "fig = px.line(\n",
    "    df_volume,\n",
    "    x='day',\n",
    "    y='volume_trailing',\n",
    "    title='7 Day Trailing Volume',\n",
    ")\n",
    "\n",
    "fig.show()"
   ]
  },
  {
   "cell_type": "code",
   "execution_count": null,
   "id": "2f4c7b30",
   "metadata": {},
   "outputs": [],
   "source": []
  }
 ],
 "metadata": {
  "interpreter": {
   "hash": "3b817e5e288bda55953293ef8844ee1dfc37277f6f1366bfa40c938e1e963ff1"
  },
  "kernelspec": {
   "display_name": "Python 3 (ipykernel)",
   "language": "python",
   "name": "python3"
  },
  "language_info": {
   "codemirror_mode": {
    "name": "ipython",
    "version": 3
   },
   "file_extension": ".py",
   "mimetype": "text/x-python",
   "name": "python",
   "nbconvert_exporter": "python",
   "pygments_lexer": "ipython3",
   "version": "3.8.9"
  }
 },
 "nbformat": 4,
 "nbformat_minor": 5
}
